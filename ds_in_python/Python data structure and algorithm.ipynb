{
 "cells": [
  {
   "cell_type": "code",
   "execution_count": null,
   "metadata": {
    "pycharm": {
     "name": "#%%\n"
    }
   },
   "outputs": [],
   "source": [
    "#变位词-solution1\n",
    "def anagramSolution(s1,s2):\n",
    "    alist = list(s2)\n",
    "    pos1 = 0\n",
    "    stillok = True\n",
    "    while pos1<len(s1) and stillok:\n",
    "        pos2 = 0\n",
    "        found = False\n",
    "        while pos2 < len(s2) and not found:\n",
    "            if alist[pos2] == s1[pos1]:\n",
    "                found = True\n",
    "            else:\n",
    "                pos2 += 1\n",
    "        if found:\n",
    "            alist[pos2] = None\n",
    "        else:\n",
    "            stillok = False\n",
    "        pos1 += 1\n",
    "    return stillok #学习到的点 while/if 语句后的逻辑值为True时才会进行下一步操作\n",
    "anagramSolution('heart','earty')"
   ]
  },
  {
   "cell_type": "code",
   "execution_count": null,
   "metadata": {
    "pycharm": {
     "name": "#%%\n"
    }
   },
   "outputs": [],
   "source": [
    "#r变位词solution2\n",
    "def anagramSolution2(s1,s2):\n",
    "    alist1 = list(s1)\n",
    "    alist2 = list(s2)\n",
    "    alist1.sort()\n",
    "    alist2.sort()\n",
    "    pos = 0\n",
    "    match = True \n",
    "    while pos < len(s1) and match:\n",
    "        if alist1[pos] == alist2[pos]:\n",
    "            pos += 1\n",
    "        else:\n",
    "            match = False\n",
    "    return match\n",
    "    #if len(s1) == len(s2):\n",
    "        #pos = 0\n",
    "        #stillok = True\n",
    "        #while pos < len(s1) and stillok:\n",
    "            #if alist1[pos] == alist2[pos]:\n",
    "                #alist1[pos] = None\n",
    "            #else:\n",
    "                #stillok = False\n",
    "            #pos += 1\n",
    "    #else:\n",
    "        #stillok = False\n",
    "    #return stillok\n",
    "anagramSolution2('python','typhon')\n",
    "    "
   ]
  },
  {
   "cell_type": "code",
   "execution_count": null,
   "metadata": {
    "pycharm": {
     "name": "#%%\n"
    }
   },
   "outputs": [],
   "source": [
    "#变位词 计数法\n",
    "def anagramSolution3(s1,s2):\n",
    "    c1 = [0]*26\n",
    "    c2 = [0]*26\n",
    "    for i in range(len(s1)):\n",
    "        pos1 = ord(s1[i]) - ord('a')\n",
    "        c1[pos1] += 1\n",
    "    for i in range(len(s2)):\n",
    "        pos2 = ord(s2[i]) - ord('a')\n",
    "        c2[pos2] += 1\n",
    "    j = 0\n",
    "    stillok = True\n",
    "    while j < 26 and stillok:\n",
    "        if c1[j] == c2[j]:\n",
    "            j += 1\n",
    "        else:\n",
    "            stillok = False\n",
    "    return stillok\n",
    "    #d1 = {}  字典 by myself\n",
    "    #d2 = {}\n",
    "    #for letter1 in s1:\n",
    "        #d1[letter1] = d1.get(letter1,0) + 1\n",
    "    #for letter2 in s2:\n",
    "        #d2[letter2] = d2.get(letter2,0) + 1\n",
    "    #if d1 == d2:\n",
    "        #return True\n",
    "    #else:\n",
    "        #return False\n",
    "        \n",
    "anagramSolution3('python','typhon')"
   ]
  },
  {
   "cell_type": "code",
   "execution_count": null,
   "metadata": {
    "pycharm": {
     "name": "#%%\n"
    }
   },
   "outputs": [],
   "source": [
    "class Stack: # ADT Stack\n",
    "    def __init__(self):\n",
    "        self.items = []\n",
    "        \n",
    "    def isEmpty(self):\n",
    "        return self.items == []\n",
    "    \n",
    "    def push(self,item):\n",
    "        return self.items.append(item)\n",
    "    \n",
    "    def pop(self):\n",
    "        return self.items.pop()\n",
    "    \n",
    "    def peek(self):\n",
    "        return self.items[len(self.items)-1]\n",
    "    \n",
    "    def size(self):\n",
    "        return len(self.items)"
   ]
  },
  {
   "cell_type": "code",
   "execution_count": null,
   "metadata": {
    "pycharm": {
     "name": "#%%\n"
    }
   },
   "outputs": [],
   "source": [
    "#栈的应用 括号匹配\n",
    "def parChecker(symbolString):\n",
    "    s = Stack()\n",
    "    balanced = True\n",
    "    index = 0\n",
    "    while index < len(symbolString) and balanced:\n",
    "        symbol = symbolString[index]\n",
    "        if symbol == '(':\n",
    "            s.push(symbol)\n",
    "        else:\n",
    "            if s.isEmpty():\n",
    "                balanced = False\n",
    "            else:\n",
    "                s.pop()\n",
    "        index += 1\n",
    "    if balanced and s.isEmpty():\n",
    "        return True\n",
    "    else:\n",
    "        return False\n",
    "parChecker('((((())))')"
   ]
  },
  {
   "cell_type": "code",
   "execution_count": null,
   "metadata": {
    "pycharm": {
     "name": "#%%\n"
    }
   },
   "outputs": [],
   "source": [
    "#通用括号匹配\n",
    "def match(opener,closer):\n",
    "    opens = ['(','[','{']\n",
    "    closes = [')',']','}']\n",
    "    return opens.index(opener) == closes.index(closer)\n",
    "\n",
    "def parCheckerg(symbolString):\n",
    "    s = Stack()\n",
    "    index = 0\n",
    "    balanced = True\n",
    "    while index < len(symbolString) and balanced:\n",
    "        symbol = symbolString[index]\n",
    "        if symbol in ['(','[','{']:\n",
    "            s.push(symbol)\n",
    "        else:\n",
    "            if s.isEmpty():\n",
    "                balanced = False\n",
    "            else:\n",
    "                if match(s.peek(),symbol):\n",
    "                    s.pop()\n",
    "                else:\n",
    "                    balanced = False\n",
    "        print(s.size())\n",
    "        index += 1\n",
    "    if balanced and s.isEmpty():\n",
    "        return True\n",
    "    else:\n",
    "        return False\n",
    "parCheckerg('([()[]{]}<>)')"
   ]
  },
  {
   "cell_type": "code",
   "execution_count": null,
   "metadata": {
    "pycharm": {
     "name": "#%%\n"
    }
   },
   "outputs": [],
   "source": [
    "#二进制转换十进制\n",
    "def divideby2(decNumber):\n",
    "    remstack = Stack()\n",
    "    while decNumber>0:\n",
    "        rem = decNumber % 2\n",
    "        remstack.push(rem)\n",
    "        decNumber = decNumber // 2\n",
    "        \n",
    "    binString = ''\n",
    "    while not remstack.isEmpty():\n",
    "        binString = binString + str(remstack.pop())\n",
    "    return binString\n",
    "divideby2(35)"
   ]
  },
  {
   "cell_type": "code",
   "execution_count": null,
   "metadata": {
    "pycharm": {
     "name": "#%%\n"
    }
   },
   "outputs": [],
   "source": [
    "#表达式转换\n",
    "def infixToPostfix(infixexpr):\n",
    "    prec = {}\n",
    "    prec['*'] = 3\n",
    "    prec['/'] = 3\n",
    "    prec['+'] = 2\n",
    "    prec['-'] = 2\n",
    "    prec['('] = 1\n",
    "    opstack = Stack()\n",
    "    postfixlist = []\n",
    "    tokenlist = infixexpr.split()\n",
    "    for token in tokenlist:\n",
    "        if token in 'ABCDEFGHIJKLMNOPQRSTUVWXYZ' or token in '0123456789':\n",
    "            postfixlist.append(token)\n",
    "        elif token == '(':\n",
    "            opstack.push(token)\n",
    "        elif token == ')':\n",
    "            toptoken = opstack.pop()\n",
    "            while toptoken != '(':\n",
    "                postfixlist.append(toptoken)\n",
    "                toptoken = opstack.pop()\n",
    "        else:\n",
    "            while (not opstack.isEmpty()) and (prec[opstack.peek()] >= prec[token] ):\n",
    "                postfixlist.append(opstack.pop())\n",
    "            opstack.push(token)\n",
    "    while not opstack.isEmpty():\n",
    "        postfixlist.append(opstack.pop())\n",
    "    return ''.join(postfixlist)\n",
    "infixToPostfix('( A + B ) * ( C + D )')"
   ]
  },
  {
   "cell_type": "code",
   "execution_count": null,
   "metadata": {
    "pycharm": {
     "name": "#%%\n"
    }
   },
   "outputs": [],
   "source": [
    "def infixtopostfixr(infixexpr):\n",
    "    prec = {}\n",
    "    prec['*'] = 3\n",
    "    prec['/'] = 3\n",
    "    prec['+'] = 2\n",
    "    prec['-'] = 2\n",
    "    prec['('] = 1\n",
    "    postfixlist = []\n",
    "    opstack = Stack()\n",
    "    tokenlist = infixexpr.split()\n",
    "    for token in tokenlist:\n",
    "        if token in 'ABCDEFGHIGKLMNOPQRSTUVWXYZ' or token in '0987654321':\n",
    "            postfixlist.append(token)\n",
    "        elif token == '(':\n",
    "            opstack.push(token)\n",
    "        elif token == ')':\n",
    "            toptoken = opstack.pop()\n",
    "            while toptoken != '(':\n",
    "                postfixlist.append(toptoken)\n",
    "                toptoken = opstack.pop() #去除前括号\n",
    "        else:\n",
    "            while (not opstack.isEmpty()) and prec[opstack.peek()] >= prec[token]:\n",
    "                postfixlist.append(opstack.pop())\n",
    "            opstack.push(token)\n",
    "    while not opstack.isEmpty():\n",
    "        postfixlist.append(opstack.pop())\n",
    "    return ' '.join(postfixlist)\n",
    "infixtopostfixr('( A + B ) * ( C + D )')"
   ]
  },
  {
   "cell_type": "code",
   "execution_count": null,
   "metadata": {
    "pycharm": {
     "name": "#%%\n"
    }
   },
   "outputs": [],
   "source": [
    "#后缀表达式求值\n",
    "def postfixeval(postfixexpr):\n",
    "    opstack = Stack()\n",
    "    tokenlist = postfixexpr.split()\n",
    "    for token in tokenlist:\n",
    "        if token in '012346789':\n",
    "            opstack.push(int(token))\n",
    "        else:\n",
    "            open2 = opstack.pop()\n",
    "            open1 = opstack.pop()\n",
    "            result = doMath(token,open1,open2)\n",
    "            opstack.push(result)\n",
    "    return opstack.pop()\n",
    "\n",
    "def doMath(op,op1,op2):\n",
    "    if op == '*':\n",
    "        return op1 * op2\n",
    "    elif op == '/':\n",
    "        return op1 / op2\n",
    "    elif op == '+':\n",
    "        return op1 + op2\n",
    "    else:\n",
    "        return op1 - op2\n",
    "postfixeval('7 8 + 3 2 + /')"
   ]
  },
  {
   "cell_type": "code",
   "execution_count": null,
   "metadata": {
    "pycharm": {
     "name": "#%%\n"
    }
   },
   "outputs": [],
   "source": [
    "#队列queue\n",
    "class Queue:\n",
    "    def __init__(self):\n",
    "        self.items = []\n",
    "    def isEmpty(self):\n",
    "        return self.items == []\n",
    "    def enqueue(self,item):\n",
    "        return self.items.insert(0,item)\n",
    "    def dequeue(self):\n",
    "        return self.items.pop()\n",
    "    def size(self):\n",
    "        return len(self.items)"
   ]
  },
  {
   "cell_type": "code",
   "execution_count": null,
   "metadata": {
    "pycharm": {
     "name": "#%%\n"
    }
   },
   "outputs": [],
   "source": [
    "#hotpotato/击鼓传花 目标：研究最后留下的是谁\n",
    "def hotpotato(namelist,num):\n",
    "    simqueue = Queue()\n",
    "    for name in namelist:\n",
    "        simqueue.enqueue(name)\n",
    "        \n",
    "    while simqueue.size() > 1:\n",
    "        for i in range(num):\n",
    "            simqueue.enqueue(simqueue.dequeue())\n",
    "        simqueue.dequeue()\n",
    "    return simqueue.dequeue()\n",
    "hotpotato(['a','b','c'],4)"
   ]
  },
  {
   "cell_type": "code",
   "execution_count": null,
   "metadata": {
    "pycharm": {
     "name": "#%%\n"
    }
   },
   "outputs": [],
   "source": [
    "#打印任务\n",
    "#对象：打印机\n",
    "class Printer:\n",
    "    def __init__(self,ppm):\n",
    "        self.pagerate = ppm#打印速度\n",
    "        self.currentTask = None#打印任务\n",
    "        self.timeRemaining = 0 #任务倒计时\n",
    "    def tick(self):\n",
    "        if self.currentTask != None:\n",
    "            self.timeRemaining = self.timeRemaining - 1\n",
    "            if self.timeRemaining <= 0:\n",
    "                self.currentTask = None\n",
    "    def busy(self):\n",
    "        if self.currentTask != None:\n",
    "            return True\n",
    "        else:\n",
    "            return False\n",
    "    def startNext(self,newtask):\n",
    "        self.currentTask = newtask\n",
    "        self.timeRemaining = newtask.getPages()*60/self.pagerate"
   ]
  },
  {
   "cell_type": "code",
   "execution_count": null,
   "metadata": {
    "pycharm": {
     "name": "#%%\n"
    }
   },
   "outputs": [],
   "source": [
    "#对象 打印任务\n",
    "import random\n",
    "class Task:\n",
    "    def __init__(self,time):\n",
    "        self.timestamp = time#生成时间\n",
    "        self.pages = random.randrange(1,21)\n",
    "    \n",
    "    def getStamp(self):\n",
    "        return self.timestamp\n",
    "    \n",
    "    def getPages(self):\n",
    "        return self.pages\n",
    "    \n",
    "    def waitTime(self,currenttime):\n",
    "        return currenttime - self.timestamp\n",
    "    \n",
    "def newPrintTask():#判断在当前这1s 是否生成作业\n",
    "    num = random.randrange(1,181)\n",
    "    if num==180:\n",
    "        return True\n",
    "    else:\n",
    "        return False\n"
   ]
  },
  {
   "cell_type": "code",
   "execution_count": null,
   "metadata": {
    "pycharm": {
     "name": "#%%\n"
    }
   },
   "outputs": [],
   "source": [
    "# 开始模拟\n",
    "def simulation(numSeconds,pagesPerMinute):\n",
    "    \n",
    "    labprinter = Printer(pagesPerMinute)\n",
    "    printQueue = Queue()\n",
    "    waitingtimes = []\n",
    "    \n",
    "    for currentSecond in range(numSeconds):#模拟时间流逝\n",
    "        if newPrintTask():\n",
    "            task = Task(currentSecond)\n",
    "            printQueue.enqueue(task)\n",
    "        if (not labprinter.busy()) and (not printQueue.isEmpty()):\n",
    "            nexttask = printQueue.dequeue()\n",
    "            waitingtimes.append(nexttask.waitTime(currentSecond))\n",
    "            labprinter.startNext(nexttask)\n",
    "        labprinter.tick()\n",
    "    \n",
    "    averageWait = sum(waitingtimes)/len(waitingtimes)\n",
    "    print('Average Wait {}seconds,{} tasks remaining'.format(averageWait,printQueue.size()))\n",
    "simulation(3600,5)        "
   ]
  },
  {
   "cell_type": "code",
   "execution_count": null,
   "metadata": {
    "pycharm": {
     "name": "#%%\n"
    }
   },
   "outputs": [],
   "source": [
    "# queue review\n",
    "import random\n",
    "class Printer2:\n",
    "    def __init__(self,ppm):\n",
    "        self.pagerate = ppm\n",
    "        self.currentTask = None\n",
    "        self.timeRemaining = 0\n",
    "        \n",
    "    def tick(self):\n",
    "        if self.currentTask != None:\n",
    "            self.timeRemaining -= 1\n",
    "            if self.timeRemaining <= 0:\n",
    "                self.currentTask = None\n",
    "    \n",
    "    def busy(self):\n",
    "        if self.currentTask != None:\n",
    "            return True\n",
    "        else:\n",
    "            return False\n",
    "        \n",
    "    def startNext(self,newtask):\n",
    "        self.currentTask = newtask\n",
    "        self.timeRemaining = (self.currentTask.getPages() * 60 / self.pagerate)#newtask的意义在哪？\n",
    "        #return newtask.getPages() * 60 / self.pagerate\n",
    "        \n",
    "class task2:\n",
    "    def __init__(self,time):\n",
    "        self.timestamp = time\n",
    "        self.pages = random.randrange(1,21)\n",
    "        \n",
    "    def getStamps(self):\n",
    "        return self.timestamp\n",
    "    \n",
    "    def getPages(self):\n",
    "        return self.pages\n",
    "    \n",
    "    def waitTime(self,currentTime):\n",
    "        return currentTime - self.timestamp\n",
    "\n",
    "def newprinttask2():\n",
    "    num = random.randrange(1,181)\n",
    "    if num==180:\n",
    "        return True\n",
    "    else:\n",
    "        False\n",
    "def simulation3(numSeconds,pagesPerMinute):\n",
    "    labPrinter = Printer2(pagesPerMinute)\n",
    "    printqueue = Queue()\n",
    "    waitingtimes = []\n",
    "    for currentTime in range(numSeconds):\n",
    "        if newprinttask2():\n",
    "            task = task2(currentTime)\n",
    "            printqueue.enqueue(task)\n",
    "        \n",
    "        if (not labPrinter.busy()) and (not printqueue.isEmpty()):\n",
    "            nexttask = printqueue.dequeue()\n",
    "            waitingtimes.append(nexttask.waitTime(currentTime))\n",
    "            labPrinter.startNext(nexttask)\n",
    "            \n",
    "        labPrinter.tick()\n",
    "        \n",
    "    averagewaitTime = sum(waitingtimes) / len(waitingtimes)\n",
    "    print('平均等待{},存余{}'.format(averagewaitTime,printqueue.size()))\n",
    "    return         \n",
    "simulation3(3600,5)           "
   ]
  },
  {
   "cell_type": "code",
   "execution_count": null,
   "metadata": {
    "pycharm": {
     "name": "#%%\n"
    }
   },
   "outputs": [],
   "source": [
    "#双端队列 ADT Deque\n",
    "class Deque():\n",
    "    def __init__(self):\n",
    "        self.items = []\n",
    "    \n",
    "    def addFront(self,item):\n",
    "         self.items.append(item)\n",
    "    \n",
    "    def addRear(self,item):\n",
    "         self.items.insert(0,item)\n",
    "    \n",
    "    def removeFront(self):\n",
    "        return self.items.pop()\n",
    "    \n",
    "    def removeRear(self):\n",
    "        return self.items.pop(0)\n",
    "    \n",
    "    def isEmpty(self):\n",
    "        return self.items == []\n",
    "    \n",
    "    def size(self):\n",
    "        return len(self.items)"
   ]
  },
  {
   "cell_type": "code",
   "execution_count": null,
   "metadata": {
    "pycharm": {
     "name": "#%%\n"
    }
   },
   "outputs": [],
   "source": [
    "#回文词的判定\n",
    "def palchecker(s1):\n",
    "    deque = Deque()\n",
    "    alist = s1.split()\n",
    "    for i in range(len(alist)):\n",
    "        deque.addRear(alist[i])\n",
    "    stillok = True\n",
    "    while deque.size() > 1 and stillok:\n",
    "        first = deque.removeFront\n",
    "        last = deque.removeRear\n",
    "        if deque.removeRear() == deque.removeFront():\n",
    "            continue\n",
    "        else:\n",
    "            stillok = False\n",
    "    return stillok\n",
    "palchecker('r a d a r')"
   ]
  },
  {
   "cell_type": "code",
   "execution_count": null,
   "metadata": {
    "pycharm": {
     "name": "#%%\n"
    }
   },
   "outputs": [],
   "source": [
    "#无序表#链表实现 Node\n",
    "class Node:\n",
    "    def __init__(self,initdata):\n",
    "        self.data = initdata\n",
    "        self.next = None\n",
    "    def getdata(self):\n",
    "        return self.data\n",
    "    def getnext(self):\n",
    "        return self.next\n",
    "    def setdata(self,newdata):\n",
    "        self.data = newdata\n",
    "    def setnext(self,newnext):\n",
    "        self.next = newnext"
   ]
  },
  {
   "cell_type": "code",
   "execution_count": null,
   "metadata": {
    "pycharm": {
     "name": "#%%\n"
    }
   },
   "outputs": [],
   "source": [
    "class unorderedlist:\n",
    "    def __init__(self):\n",
    "        self.head = None\n",
    "    def add(self,item):\n",
    "        temp = Node(item)\n",
    "        temp.setnext(self.head)\n",
    "        self.head = temp#注意次序\n",
    "    def size(self):\n",
    "        current = self.head\n",
    "        count = 0\n",
    "        while current != None:\n",
    "            count += 1\n",
    "            current = current.getnext()\n",
    "        return count\n",
    "    def search(self,item):\n",
    "        current = self.head\n",
    "        found = False\n",
    "        while current != None and (not found):\n",
    "            if current.getdata() == item:\n",
    "                found = True\n",
    "            else:\n",
    "                current = current.getnext()\n",
    "        return found\n",
    "    def remove(self,item):#需要小技巧\n",
    "        current = self.head\n",
    "        previous = None\n",
    "        found = False\n",
    "        while (not found) and current != None:\n",
    "            if current.getdata() == item:\n",
    "                found = True\n",
    "            else:\n",
    "                previous = current\n",
    "                current = self.getnext()\n",
    "            \n",
    "        if previous == None:\n",
    "            self.head = current.getnext()\n",
    "        else:\n",
    "            previous.setnext(current.getnext())\n",
    "    "
   ]
  },
  {
   "cell_type": "code",
   "execution_count": null,
   "metadata": {
    "pycharm": {
     "name": "#%%\n"
    }
   },
   "outputs": [],
   "source": [
    "#unorderedlist review\n",
    "class Node:\n",
    "    def __init__(self,data):\n",
    "        self.data = data\n",
    "        self.next = None\n",
    "    def getdata(self):\n",
    "        return self.data\n",
    "    def getnext(self):\n",
    "        return self.next\n",
    "    def setdata(self,newdata):\n",
    "        self.data = newdata\n",
    "    def setnext(self,newnext):\n",
    "        self.next = newnext\n",
    "class unorderedlist:\n",
    "    def __init__(self):\n",
    "        self.head = None\n",
    "    def add(self,item):\n",
    "        temp = Node(item)\n",
    "        temp.setnext(self.head)\n",
    "        self.head = temp\n",
    "    def size(self):\n",
    "        current = self.head\n",
    "        count = 0\n",
    "        while current != None:\n",
    "            count += 1\n",
    "            current = current.getnext()\n",
    "        return count\n",
    "    def search(self,item):\n",
    "        current = self.head\n",
    "        found = False\n",
    "        while current != None and (not found):\n",
    "            if current.getdata() == item:\n",
    "                found = True \n",
    "            else:\n",
    "                current = current.getnext()\n",
    "        return found\n",
    "    def remove(self,item):\n",
    "        current = self.head\n",
    "        previous = None\n",
    "        found = False\n",
    "        while current != None and (not found):\n",
    "            if current.getdata() == item:\n",
    "                found = True\n",
    "            else:\n",
    "                previous = current\n",
    "                current = current.getnext()\n",
    "        if previous == None:\n",
    "            self.head = current.getnext()\n",
    "        else:\n",
    "            previous.setnext(current.getnext())\n"
   ]
  },
  {
   "cell_type": "code",
   "execution_count": null,
   "metadata": {
    "pycharm": {
     "name": "#%%\n"
    }
   },
   "outputs": [],
   "source": [
    "l1 = unorderedlist()\n",
    "l1.add(43)\n",
    "l1.add(56)\n",
    "l1.add(74)\n",
    "l1.remove(43)\n",
    "l1.size()"
   ]
  },
  {
   "cell_type": "code",
   "execution_count": null,
   "metadata": {
    "pycharm": {
     "name": "#%%\n"
    }
   },
   "outputs": [],
   "source": [
    "#有序表 search add 会不同\n",
    "class orderedlist:\n",
    "    def __init__(self):\n",
    "        self.head = None\n",
    "    \n",
    "    def add(self,item):\n",
    "        current = self.head\n",
    "        stop = False\n",
    "        previous = None\n",
    "        while current != None and (not stop):\n",
    "            if item < current.getdata()\n",
    "                stop = True \n",
    "            else:\n",
    "                previous = current\n",
    "                current = current.getnext()\n",
    "        temp = Node(item)\n",
    "        if previous == None:\n",
    "            temp.setnext(self.head)\n",
    "            self.head = temp\n",
    "        else:\n",
    "            temp.setnext(current)\n",
    "            previous.setnext(temp)\n",
    "        \n",
    "        def search(self,item):\n",
    "        current = self.head\n",
    "        found = False\n",
    "        stop = False\n",
    "        while current != None and (not found) and (not stop):\n",
    "            if current.getdata() == item:\n",
    "                found = True\n",
    "            else:\n",
    "                if current.getdata() > item:\n",
    "                    stop = True\n",
    "                else:\n",
    "                    current = current.getnext()\n",
    "        return found\n"
   ]
  },
  {
   "cell_type": "code",
   "execution_count": null,
   "metadata": {
    "pycharm": {
     "name": "#%%\n"
    }
   },
   "outputs": [],
   "source": [
    "#recursion 数列求和\n",
    "def listsum(numlist):\n",
    "    if len(numlist) == 1:\n",
    "        return numlist[0]\n",
    "    else:\n",
    "        return numlist[0] + listsum(numlist[1:])\n",
    "listsum([1,2,3,4,5])"
   ]
  },
  {
   "cell_type": "code",
   "execution_count": null,
   "metadata": {
    "pycharm": {
     "name": "#%%\n"
    }
   },
   "outputs": [],
   "source": [
    "#任意进制转换\n",
    "def toStr(n,base):\n",
    "    convertstring = \"0123456789ABCDEF\"\n",
    "    if n < base:\n",
    "        return convertstring[n]\n",
    "    else:\n",
    "        return toStr(n//base,base) + convertstring[n%base]\n",
    "toStr(30,16)"
   ]
  },
  {
   "cell_type": "code",
   "execution_count": null,
   "metadata": {
    "pycharm": {
     "name": "#%%\n"
    }
   },
   "outputs": [],
   "source": [
    "#递归实例-螺线\n",
    "import turtle\n",
    "t = turtle.Turtle()\n",
    "def DrawSpiral(t,linelen):\n",
    "    if linelen > 0:\n",
    "        t.forward(linelen)\n",
    "        t.right(90)\n",
    "        DrawSpiral(t,linelen-5)\n",
    "DrawSpiral(t,100)\n",
    "turtle.done()"
   ]
  },
  {
   "cell_type": "code",
   "execution_count": null,
   "metadata": {
    "pycharm": {
     "name": "#%%\n"
    }
   },
   "outputs": [],
   "source": [
    "class Node:  ##链表实现栈\n",
    "    def __init__(self,item,next):\n",
    "        self.item = item\n",
    "        self.next = next "
   ]
  },
  {
   "cell_type": "code",
   "execution_count": null,
   "metadata": {
    "pycharm": {
     "name": "#%%\n"
    }
   },
   "outputs": [],
   "source": [
    "class LinkedStack:\n",
    "            \n",
    "    def __init__(self):\n",
    "        self.head = None\n",
    "        self.size = 0\n",
    "    \n",
    "    def Len(self):\n",
    "        return self.size\n",
    "    \n",
    "    def isEmpty(self):\n",
    "        return self.size == 0\n",
    "    \n",
    "    def push(self,e):\n",
    "        temp = Node(e,self.head)\n",
    "        self.head = temp\n",
    "        self.size += 1\n",
    "        \n",
    "    def top(self):\n",
    "        if self.isEmpty():\n",
    "            return 'Stack is empty'\n",
    "        return self.head.item\n",
    "    \n",
    "    def pop(self):\n",
    "        if self.isEmpty():\n",
    "            return 'Stack is empty'\n",
    "        answer = self.head.item\n",
    "        self.head = self.head.next\n",
    "        self.size -= 1\n",
    "        return answer\n",
    "    \n",
    "    "
   ]
  },
  {
   "cell_type": "code",
   "execution_count": null,
   "metadata": {
    "pycharm": {
     "name": "#%%\n"
    }
   },
   "outputs": [],
   "source": [
    "##链表实现队列\n",
    "class Node:\n",
    "    def __init__(self,item,next):\n",
    "        self.item = item\n",
    "        self.next = next"
   ]
  },
  {
   "cell_type": "code",
   "execution_count": null,
   "metadata": {
    "pycharm": {
     "name": "#%%\n"
    }
   },
   "outputs": [],
   "source": [
    "class LinkedQueue():\n",
    "    def __init__(self):\n",
    "        self.head = None\n",
    "        self.tail = None\n",
    "        self.size = 0\n",
    "    \n",
    "    def Size(self):\n",
    "        return self.size\n",
    "    \n",
    "    def isEmpty(self):\n",
    "        return self.size == 0\n",
    "    \n",
    "    def enqueue(self,item):\n",
    "        newest = Node(item,None)\n",
    "        if self.isEmpty():\n",
    "            self.head = newest\n",
    "        else:\n",
    "            self.tail.next = newest\n",
    "        self.tail = newest\n",
    "        self.size += 1\n",
    "    \n",
    "    def dequeue(self):\n",
    "        if self.isEmpty():\n",
    "            return \"the Qeuue is empty\"\n",
    "        answer = self.head.item        \n",
    "        self.head = self.head.next\n",
    "        self.size -= 1\n",
    "        if self.isEmpty():\n",
    "            self.tail = None\n",
    "        return answer \n",
    "    \n",
    "    def first(self):\n",
    "        if self.isEmpty():\n",
    "            return \"the queue is empty\"\n",
    "        else:\n",
    "            return self.head.item\n",
    "        "
   ]
  },
  {
   "cell_type": "code",
   "execution_count": null,
   "metadata": {
    "pycharm": {
     "name": "#%%\n"
    }
   },
   "outputs": [],
   "source": [
    "#review 链表队列\n",
    "class Node:\n",
    "    def __init__(self,item,next):\n",
    "        self.item = item\n",
    "        self.next = next\n",
    "class LinkedQueue:\n",
    "    def __init__(self):\n",
    "        self.size = 0\n",
    "        self.head = None\n",
    "        self.tail = None\n",
    "    \n",
    "    def size(self):\n",
    "        return self.size\n",
    "    def isEmpty(self):\n",
    "        return self.size == 0\n",
    "    def enqueue(self,item):\n",
    "        newest = Node(item,None)\n",
    "        if self.isEmpty():\n",
    "            self.head = newest\n",
    "        else:\n",
    "            self.tail.next = newest\n",
    "        self.tail = newest\n",
    "        self.size += 1\n",
    "    def dequeue(self):\n",
    "        if self.isEmpty():\n",
    "            return \"the quueue is empty\"\n",
    "        else:\n",
    "            answer = self.head.item\n",
    "            self.head = self.head.next\n",
    "            self.size -= 1\n",
    "        return answer\n",
    "    def first(self):\n",
    "        if self.isEmpty():\n",
    "            return \"the queue is empty\"\n",
    "        else:\n",
    "            return self.head.item\n",
    "        \n"
   ]
  },
  {
   "cell_type": "code",
   "execution_count": null,
   "metadata": {
    "pycharm": {
     "name": "#%%\n"
    }
   },
   "outputs": [],
   "source": [
    "q = LinkedQueue()\n",
    "q.enqueue(1)\n",
    "q.enqueue(2)\n",
    "q.enqueue(3)\n",
    "a = q.dequeue()\n",
    "b = q.dequeue()\n",
    "c = q.dequeue()\n",
    "d = q.isEmpty()\n",
    "d"
   ]
  },
  {
   "cell_type": "code",
   "execution_count": null,
   "metadata": {
    "pycharm": {
     "name": "#%%\n"
    }
   },
   "outputs": [],
   "source": [
    "#循环列表\n",
    "class Node:\n",
    "    def __init__(self,item.next):\n",
    "        self.item = item \n",
    "        self.next = next\n",
    "class CircularQueue:\n",
    "    def __init__(self):\n",
    "        self.tail = None\n",
    "        self.size = 0\n",
    "    def size(self):\n",
    "        return self.size\n",
    "        \n",
    "    def isEmpty(self):\n",
    "        return self.size == 0\n",
    "    \n",
    "    def enqueue(self,item):\n",
    "        newest = Node(item,None)\n",
    "        if self.isEmpty():\n",
    "            newest.next = newest\n",
    "        else:\n",
    "            newest.next = self.tail.next\n",
    "            self.tail.next = newest\n",
    "        self.tail = newest\n",
    "        self.size += 1\n",
    "        \n",
    "    def dequeue(self):\n",
    "        if self.isEmpty():\n",
    "            return \"the queue is empty\"\n",
    "        oldhead = self.tail.next\n",
    "        answer = oldhead.next\n",
    "        if self.size == 1:\n",
    "            self.tail = None\n",
    "        else:\n",
    "            self.tail.next = oldhead.next\n",
    "        self.size -= 1\n",
    "        return answer\n",
    "        \n",
    "    def first(self):\n",
    "        if self.isEmpty():\n",
    "            return \"the queue is empty\"\n",
    "        head = self.tail.next\n",
    "        answer = head.item\n",
    "        return answer\n",
    "    def rotate(self):\n",
    "        oldhead = self.tail.next\n",
    "        if self.size > 0:\n",
    "            self.tail = oldhead\n",
    "    \n",
    "    "
   ]
  },
  {
   "cell_type": "code",
   "execution_count": null,
   "metadata": {
    "pycharm": {
     "name": "#%%\n"
    }
   },
   "outputs": [],
   "source": [
    "#循环列表 review\n",
    "class Node:\n",
    "    def __init__(self,item,next):\n",
    "        self.item = item \n",
    "        self.next = next\n",
    "        \n",
    "class CircularQueue:\n",
    "    def __intit__(self):\n",
    "        self.tail = None\n",
    "        self.size = 0\n",
    "    def size(self):\n",
    "        return self.size\n",
    "    def isEmpty():\n",
    "        return self.size == 0\n",
    "    def enqueue(self,item):\n",
    "        newest = Node(item,None)\n",
    "        if self.isEmpty():\n",
    "            newest.next = newest\n",
    "        else:\n",
    "            newest.next = self.tail.next\n",
    "            self.tail.next = newest\n",
    "        self.tail = newest\n",
    "        self.size += 1\n",
    "        \n",
    "    def dequeue(self):\n",
    "        if self.isEmpty():\n",
    "            return \"the queue is empty\"\n",
    "        oldhead = self.tail.next\n",
    "        answer = oldhead.item\n",
    "        if self.size == 1:\n",
    "            self.tail = None\n",
    "        else:\n",
    "            self.tail.next = oldhead.next\n",
    "        self.size -= 1\n",
    "        return answer\n",
    "        \n",
    "            "
   ]
  },
  {
   "cell_type": "code",
   "execution_count": null,
   "metadata": {
    "pycharm": {
     "name": "#%%\n"
    }
   },
   "outputs": [],
   "source": [
    "#歇尔宾斯基三角\n",
    "import turtle\n",
    "t = turtle.Turtle()\n",
    "points = {\"left\":(-200,-100),\n",
    "          \"right\":(200,-100),\n",
    "          \"top\":(0,200)}\n",
    "colormap = [\"yellow\",\"blue\",\"red\",\"pink\",\"black\",\"white\"]\n",
    "\n",
    "def drawTriangle(points,color):\n",
    "    t.fillcolor(color)\n",
    "    t.penup()\n",
    "    t.goto(points[\"top\"])\n",
    "    t.pendown()\n",
    "    t.begin_fill()\n",
    "    t.goto(points[\"left\"])\n",
    "    t.goto(points[\"right\"])\n",
    "    t.goto(points[\"top\"])\n",
    "    t.end_fill()\n",
    "\n",
    "def getMid(p1,p2):\n",
    "    return (0.5*(p1[0]+p2[0]),0.5*(p1[1]+p2[1]))\n",
    "\n",
    "def Sierpinski(degree,points):\n",
    "    drawTriangle(points,colormap[degree])\n",
    "    if degree > 0:\n",
    "        Sierpinski(degree -1 ,\n",
    "                  {\"left\":points[\"left\"],\n",
    "                   \"right\":getMid(points[\"left\"],points[\"right\"]),\n",
    "                   \"top\":getMid(points[\"left\"],points[\"top\"]) \n",
    "                  })\n",
    "        Sierpinski(degree - 1,\n",
    "                  {\"left\":getMid(points[\"left\"],points[\"right\"]),\n",
    "                   \"right\":points[\"right\"],\n",
    "                   \"top\":getMid(points[\"top\"],points[\"right\"])  \n",
    "                  })\n",
    "        Sierpinski(degree - 1,\n",
    "                  {\"left\":getMid(points[\"left\"],points[\"top\"]),\n",
    "                   \"right\":getMid(points[\"right\"],points[\"top\"]),\n",
    "                   \"top\":points[\"top\"]\n",
    "                  })\n",
    "Sierpinski(5,points)\n",
    "           \n",
    "    "
   ]
  },
  {
   "cell_type": "code",
   "execution_count": null,
   "metadata": {
    "pycharm": {
     "name": "#%%\n"
    }
   },
   "outputs": [],
   "source": [
    "#三角review\n",
    "import turtle\n",
    "t = turtle.Turtle()\n",
    "def DrawTriangle(points,color):\n",
    "    t.fillcolor(color)\n",
    "    t.penup()\n",
    "    t.goto(points[\"top\"])\n",
    "    t.pendown()\n",
    "    t.begin_fill()\n",
    "    t.goto(points[\"left\"])\n",
    "    t.goto(points[\"right\"])\n",
    "    t.goto(points[\"top\"])\n",
    "    t.end_fill()\n",
    "def getMid(p1,p2):\n",
    "    return(0.5*(p1[0]+p2[0]),0.5*(p1[1]+p2[1]))\n",
    "points = {\"left\":(-200,-100),\n",
    "          \"right\":(200,-100),\n",
    "          \"top\":(0,200)}\n",
    "colormap = [\"white\",\"pink\",\"black\",\"blue\",\"red\"]\n",
    "\n",
    "def Striangle(degree,points):\n",
    "    DrawTriangle(points,colormap[degree-1])\n",
    "    if degree > 0:\n",
    "        Striangle(degree - 1,\n",
    "                 {\"left\":points[\"left\"],\n",
    "                  \"right\":getMid(points[\"left\"],points[\"right\"]),\n",
    "                  \"top\":getMid(points[\"left\"],points[\"top\"])})\n",
    "        Striangle(degree - 1,\n",
    "                 {\"left\":getMid(points[\"right\"],points[\"left\"]),\n",
    "                  \"right\":points[\"right\"],\n",
    "                  \"top\":getMid(points[\"right\"],points[\"top\"])})\n",
    "        Striangle(degree - 1,\n",
    "                 {\"left\":getMid(points[\"left\"],points[\"top\"]),\n",
    "                  \"right\":getMid(points[\"right\"],points[\"top\"]),\n",
    "                  \"top\":points[\"top\"] })\n",
    "Striangle(5,points)                                      "
   ]
  },
  {
   "cell_type": "code",
   "execution_count": null,
   "metadata": {
    "pycharm": {
     "name": "#%%\n"
    }
   },
   "outputs": [],
   "source": [
    "#找零兑换问题-优化版\n",
    "l1 = [0]*64\n",
    "def RecMC(CoinValueList,change,KnownResults):\n",
    "    Mincoins = change\n",
    "    if change in CoinValueList:\n",
    "        return 1\n",
    "    elif KnownResults[change] > 0:\n",
    "        return KnownResults[change]\n",
    "    else:\n",
    "        for i in [c for c in CoinValueList if c<=change]:\n",
    "            numCoins = 1 + RecMC(CoinValueList,change - i,KnownResults)\n",
    "            if numCoins < Mincoins:\n",
    "                Mincoins = numCoins\n",
    "                KnownResults[change] = Mincoins\n",
    "    return Mincoins\n",
    "RecMC([1,5,10,20],63,l1)"
   ]
  },
  {
   "cell_type": "code",
   "execution_count": null,
   "metadata": {
    "pycharm": {
     "name": "#%%\n"
    }
   },
   "outputs": [],
   "source": [
    "def RecMc(CoinValueList,change,KnownResult):\n",
    "    Mincoins = change\n",
    "    if change in CoinValueList:\n",
    "        return 1\n",
    "    elif KnownResult[change]>0:\n",
    "        return KnownResult[change]\n",
    "    else:\n",
    "        for i in [c for c in CoinValueList if c <= change]:\n",
    "            numCoins = 1 + RecMc(CoinValueList,change-i,KnownResult)\n",
    "            if numCoins < Mincoins:\n",
    "                Mincoins = numCoins\n",
    "                KnownResult[change] = Mincoins\n",
    "    return Mincoins\n",
    "l2 = [0]*64\n",
    "RecMc([1,5,10,20],63,l2)\n",
    "                "
   ]
  },
  {
   "cell_type": "code",
   "execution_count": null,
   "metadata": {
    "pycharm": {
     "name": "#%%\n"
    }
   },
   "outputs": [],
   "source": [
    "#找零兑换问题 review\n",
    "def RecMc(CoinValueList,Change,KnownResult):\n",
    "    MinCoins = Change\n",
    "    if Change in CoinValueList:\n",
    "        return 1\n",
    "    elif KnownResult[Change] > 0:\n",
    "        return KnownResult[Change]\n",
    "    else:\n",
    "        for i in [C for C in CoinValueList if C <= Change]:\n",
    "            numCoins = 1 + RecMc(CoinValueList,Change - i,KnownResult)\n",
    "            if numCoins < MinCoins:\n",
    "                MinCoins = numCoins\n",
    "                KnownResult[Change] = MinCoins\n",
    "    return MinCoins\n",
    "RecMc([1,5,10,20],63,[0]*64)"
   ]
  },
  {
   "cell_type": "code",
   "execution_count": null,
   "metadata": {
    "pycharm": {
     "name": "#%%\n"
    }
   },
   "outputs": [],
   "source": [
    "#找零兑换动态规划解法\n",
    "l1 = [0]*64\n",
    "def dpMakeChange(CoinValueList,Change,MinCoins):\n",
    "    for cents in range(1,Change+1):\n",
    "        CoinCount = cents\n",
    "        for i in [c for c in CoinValueList if c <= cents]:\n",
    "            if MinCoins[cents - i] + 1 < CoinCount:\n",
    "                CoinCount = MinCoins[cents - i] + 1\n",
    "        MinCoins[cents] = CoinCount\n",
    "    return MinCoins[Change]\n",
    "dpMakeChange([1,5,10,20],63,l1)"
   ]
  },
  {
   "cell_type": "code",
   "execution_count": null,
   "metadata": {
    "pycharm": {
     "name": "#%%\n"
    }
   },
   "outputs": [],
   "source": [
    "def dpMakeChange(coinValueList,change,Mincoins):\n",
    "    for cents in range(1,change+1):\n",
    "        coinCount = cents\n",
    "        for i in [c for c in coinValueList if c<=cents]:\n",
    "            if Mincoins[cents-i] + 1 < coinCount:\n",
    "                coinCount = Mincoins[cents-i] + 1\n",
    "            Mincoins[cents] = coinCount\n",
    "    return Mincoins[change]\n",
    "dpMakeChange([1,5,10,20],63,[0]*64)"
   ]
  },
  {
   "cell_type": "code",
   "execution_count": null,
   "metadata": {
    "pycharm": {
     "name": "#%%\n"
    }
   },
   "outputs": [],
   "source": [
    "#博物馆大盗问题 动态规划\n",
    "tr = [None,{\"w\":2,\"v\":3},{\"w\":3,\"v\":4},{\"w\":4,\"v\":8},{\"w\":5,\"v\":8},{\"w\":9,\"v\":10}]\n",
    "max_W = 20\n",
    "m = {(i,w):0 for i in range(len(tr)) for w in range(max_W + 1)}\n",
    "for i in range(1,len(tr)):\n",
    "    for w in range(1,max_W + 1):\n",
    "        if tr[i][\"w\"] > w: ##重量太大，应不拿\n",
    "            m[(i,w)] = m[(i-1),w]\n",
    "        else:\n",
    "            m[(i,w)] = max(\n",
    "                m[(i-1,w)],\n",
    "                m[(i-1,w-tr[i][\"w\"])] + tr[i][\"v\"]\n",
    "            )\n",
    "print(m[(len(tr) - 1,max_W)])"
   ]
  },
  {
   "cell_type": "raw",
   "metadata": {},
   "source": []
  },
  {
   "cell_type": "code",
   "execution_count": null,
   "metadata": {
    "pycharm": {
     "name": "#%%\n"
    }
   },
   "outputs": [],
   "source": [
    "#大盗review\n",
    "tr = [None,{\"w\":2,\"v\":3},{\"w\":3,\"v\":4},{\"w\":4,\"v\":8},{\"w\":5,\"v\":8},{\"w\":9,\"v\":10}]\n",
    "Max_W = 20\n",
    "m = {(i,w):0 for i in range(len(tr)) for w in range(Max_W + 1)}\n",
    "for i in range(1,len(tr)):\n",
    "    for w in range(1,Max_W+1):\n",
    "        if tr[i][\"w\"] > w:\n",
    "            m[(i,w)] = m[(i-1,w)]\n",
    "        else:\n",
    "            m[(i,w)] = max(m[(i-1,w)],\n",
    "            m[(i-1,w-tr[i][\"w\"])]+tr[i][\"v\"])\n",
    "print(m[len(tr)-1,Max_W])"
   ]
  },
  {
   "cell_type": "code",
   "execution_count": null,
   "metadata": {
    "pycharm": {
     "name": "#%%\n"
    }
   },
   "outputs": [],
   "source": [
    "#博物馆大盗问题 递归\n",
    "tr = {(2,3),(3,4),(4,8)}\n",
    "max_w = 20\n",
    "m = {}\n",
    "def theif(tr,w):\n",
    "    if tr == set() or w == 0:\n",
    "        m[(tuple(tr),w)] = 0\n",
    "        return 0\n",
    "    elif (tuple(tr),w) in m:\n",
    "        return m[(tuple(tr),w)]\n",
    "    else:\n",
    "        vmax = 0\n",
    "        for t in tr:\n",
    "            if t[0] <= w:\n",
    "                v = theif(tr-{t},w-t[0]) + t[1]\n",
    "                vmax = max(vmax,v)\n",
    "        m[(tuple(tr),w)] = vmax\n",
    "        return vmax\n",
    "theif(tr,max_W)\n",
    "m"
   ]
  },
  {
   "cell_type": "code",
   "execution_count": null,
   "metadata": {
    "pycharm": {
     "name": "#%%\n"
    }
   },
   "outputs": [],
   "source": [
    "#博物馆review\n",
    "tr = [None,{\"w\":2,\"v\":3},{\"w\":3,\"v\":4},{\"w\":4,\"v\":8},{\"w\":5,\"v\":8},{\"w\":9,\"v\":10}]\n",
    "max_W = 20\n",
    "m = {(i,w):0 for i in range(len(tr)) for w in range(max_W + 1)}\n",
    "for i in range(1,len(tr)):\n",
    "    for w in range(1,max_W + 1):\n",
    "        if tr[i][\"w\"] > w:\n",
    "            m[(i,w)] = m[(i-1,w)]\n",
    "        else:\n",
    "            m[(i,w)] = max(\n",
    "                m[(i-1,w)],\n",
    "                m[(i-1,w-tr[i][\"w\"])] + tr[i][\"v\"]\n",
    "            )\n",
    "print(m[(len(tr)-1,max_W)])"
   ]
  },
  {
   "cell_type": "code",
   "execution_count": null,
   "metadata": {
    "pycharm": {
     "name": "#%%\n"
    }
   },
   "outputs": [],
   "source": [
    "def theif2(tr,w):\n",
    "    if tr == set() or w == 0:\n",
    "        m2[(tuple(tr),w)] = 0\n",
    "        return 0\n",
    "    elif (tuple(tr),w) in m2:\n",
    "        return m2[(tuple(tr),w)]\n",
    "    else:\n",
    "        vmax = 0\n",
    "        for t in tr:\n",
    "            if t[0] < w:\n",
    "                v = theif2(tr-{t},w-t[0])+t[1]\n",
    "                vmax = max(vmax,v)\n",
    "        m2[(tuple(tr),w)] = vmax\n",
    "    return vmax\n",
    "m2 = {}\n",
    "tr = {(2,3),(3,4),(4,8)}\n",
    "max_W2 = 20\n",
    "theif2(tr,max_W2)"
   ]
  },
  {
   "cell_type": "code",
   "execution_count": null,
   "metadata": {
    "pycharm": {
     "name": "#%%\n"
    }
   },
   "outputs": [],
   "source": [
    "#二分查找算法及分析\n",
    "def BinarySearch(alist,item):\n",
    "    first = 0\n",
    "    last = len(alist) - 1\n",
    "    found = False\n",
    "    while (not found) and first <= last:\n",
    "        midpoint = (first + last)//2\n",
    "        if alist[midpoint] == item:\n",
    "            found = True\n",
    "        else:\n",
    "            if alist[midpoint] > item:\n",
    "                last = midpoint - 1\n",
    "            else:\n",
    "                first = midpoint + 1\n",
    "    return found \n",
    "BinarySearch([1,2,3,4,5],5)"
   ]
  },
  {
   "cell_type": "code",
   "execution_count": null,
   "metadata": {
    "pycharm": {
     "name": "#%%\n"
    }
   },
   "outputs": [],
   "source": [
    "#二分递归\n",
    "def BSD(alist,item):\n",
    "    if len(alist) == 0:\n",
    "        return False\n",
    "    else:\n",
    "        midpoint = len(alist) // 2\n",
    "        if alist[midpoint] == item:\n",
    "            return True\n",
    "        else:\n",
    "            if alist[midpoint] > item:\n",
    "                return BSD(alist[:midpoint],item)\n",
    "            else:\n",
    "                return BSD(alist[midpoint+1:],item)\n",
    "BSD([1,2,3,4,5],6)"
   ]
  },
  {
   "cell_type": "code",
   "execution_count": null,
   "metadata": {
    "pycharm": {
     "name": "#%%\n"
    }
   },
   "outputs": [],
   "source": [
    "#冒泡排序，选择排序\n",
    "def BubbleSort(alist):\n",
    "    for passnum in range(len(alist) -1,0,-1):\n",
    "        for i in range(passnum):\n",
    "            if alist[i] > alist[i+1]:\n",
    "                alist[i],alist[i+1] = alist[i+1],alist[i]\n",
    "    return alist\n",
    "BubbleSort([2,3,4,5,6,33,5,6])"
   ]
  },
  {
   "cell_type": "code",
   "execution_count": null,
   "metadata": {
    "pycharm": {
     "name": "#%%\n"
    }
   },
   "outputs": [],
   "source": [
    "#选择排序\n",
    "def SelectionSort(alist):\n",
    "    for fillslot in range(len(alist)-1,0,-1):\n",
    "        LocationOfMax = 0\n",
    "        for i in range(1,fillslot+1):\n",
    "            if alist[i] > alist[LocationOfMax]:\n",
    "                LocationOfMax = i\n",
    "        alist[LocationOfMax],alist[fillslot] = alist[fillslot],alist[LocationOfMax]\n",
    "    return alist\n",
    "SelectionSort([2,3,55,6,3,2,34])"
   ]
  },
  {
   "cell_type": "code",
   "execution_count": null,
   "metadata": {
    "pycharm": {
     "name": "#%%\n"
    }
   },
   "outputs": [],
   "source": [
    "#review\n",
    "def BubbleS(alist):\n",
    "    for passnum in range(len(alist)-1,0,-1):\n",
    "        for i in range(passnum):\n",
    "            if alist[i] > alist[i+1]:\n",
    "                temp = alist[i]\n",
    "                alist[i] = alist[i+1]\n",
    "                alist[i+1] = temp\n",
    "    return alist\n",
    "BubbleS([2,4,4,53,4,35,34])"
   ]
  },
  {
   "cell_type": "code",
   "execution_count": null,
   "metadata": {
    "pycharm": {
     "name": "#%%\n"
    }
   },
   "outputs": [],
   "source": [
    "def Ss(alist):\n",
    "    for passnum in range(len(alist)-1,0,-1):\n",
    "        LocationOfmax = 0\n",
    "        for location in range(1,passnum+1):\n",
    "            if alist[location] > alist[LocationOfmax]:\n",
    "                LocationOfmax = location\n",
    "        temp = alist[passnum]\n",
    "        alist[passnum] = alist[LocationOfmax]\n",
    "        alist[LocationOfmax] = temp\n",
    "    return alist\n",
    "Ss([2,3,4,3,2,23,44,5,32,67,33])       "
   ]
  },
  {
   "cell_type": "code",
   "execution_count": null,
   "metadata": {
    "pycharm": {
     "name": "#%%\n"
    }
   },
   "outputs": [],
   "source": [
    "def Binarysearchdg(alist,item):\n",
    "    if alist == []:\n",
    "        return False\n",
    "    else:\n",
    "        midpoint = len(alist)//2\n",
    "        if alist[midpoint] == item:\n",
    "            return True \n",
    "        else:\n",
    "            if alist[midpoint] > item:\n",
    "                return Binarysearchdg(alist[:midpoint],item)\n",
    "            else:\n",
    "                return Binarysearchdg(alist[midpoint+1:],item)\n",
    "Binarysearchdg([2,4,6,7,8,9,10],123435456)"
   ]
  },
  {
   "cell_type": "code",
   "execution_count": null,
   "metadata": {
    "pycharm": {
     "name": "#%%\n"
    }
   },
   "outputs": [],
   "source": [
    "#插入排序 自己理解\n",
    "def InsertedSort(alist):\n",
    "    for passnum in range(1,len(alist)):#左闭右开\n",
    "        for i in range(passnum,0,-1):\n",
    "            if alist[i]<alist[i-1]:\n",
    "                alist[i],alist[i-1] = alist[i-1],alist[i]\n",
    "    return alist\n",
    "InsertedSort([12,3,4,2,1,4,7,6])"
   ]
  },
  {
   "cell_type": "code",
   "execution_count": null,
   "metadata": {
    "pycharm": {
     "name": "#%%\n"
    }
   },
   "outputs": [],
   "source": [
    "def InsertionSort(alist):#移动操作代码量是交换操作量的1/3\n",
    "    for index in range(1,len(alist)):\n",
    "        CurrentValue = alist[index]\n",
    "        position = index\n",
    "        while position > 0 and (alist[position-1]>CurrentValue):\n",
    "            alist[position] = alist[position-1]\n",
    "            position = position-1\n",
    "        alist[position] = CurrentValue\n",
    "    return alist\n",
    "InsertionSort([12,3,4,2,1,4,7,6])"
   ]
  },
  {
   "cell_type": "code",
   "execution_count": null,
   "metadata": {
    "pycharm": {
     "name": "#%%\n"
    }
   },
   "outputs": [],
   "source": [
    "#插入排序\n",
    "def InSort(alist):\n",
    "    for i in range(1,len(alist)):\n",
    "        index = i\n",
    "        currentValue = alist[index]\n",
    "        while (i>0 and alist[i-1]>currentValue):\n",
    "            alist[i] = alist[i-1]\n",
    "            i -= 1\n",
    "        alist[i] = currentValue\n",
    "    return alist\n",
    "InSort([1,11,2,34,21])"
   ]
  },
  {
   "cell_type": "code",
   "execution_count": null,
   "metadata": {
    "pycharm": {
     "name": "#%%\n"
    }
   },
   "outputs": [],
   "source": [
    "#Shell 希尔排序\n",
    "def ShellSort(alist):\n",
    "    SublistCount = len(alist) // 2\n",
    "    while SublistCount > 0:\n",
    "        for startposition in range(SublistCount):\n",
    "            GapInsertionSort(alist,startposition,SublistCount)\n",
    "            print(alist)\n",
    "        SublistCount = SublistCount // 2 \n",
    "def GapInsertionSort(alist,start,gap):\n",
    "    for index in range(start+gap,len(alist),gap):\n",
    "        CurrentValue = alist[index]\n",
    "        position = index\n",
    "        while position >= gap and alist[position - gap] > CurrentValue:\n",
    "            alist[position] = alist[position - gap]\n",
    "            position = position - gap\n",
    "        alist[position] = CurrentValue\n",
    "    return alist\n",
    "ShellSort([38,23,12,34,23,86,54])"
   ]
  },
  {
   "cell_type": "code",
   "execution_count": null,
   "metadata": {
    "pycharm": {
     "name": "#%%\n"
    }
   },
   "outputs": [],
   "source": [
    "#ShellSort\n",
    "def ShellS(alist):\n",
    "    sublistCount = len(alist) // 2\n",
    "    while sublistCount > 0:\n",
    "        for startPosition in range(sublistCount):\n",
    "            GapInS(alist,startPosition,sublistCount)\n",
    "            print(sublistCount,alist)\n",
    "        sublistCount = sublistCount // 2\n",
    "def GapInS(alist,start,gap):\n",
    "    for index in range(start+gap,len(alist),gap):\n",
    "        currentValue = alist[index]\n",
    "        position = index \n",
    "        while (position>=gap and alist[position - gap] > currentValue):\n",
    "            alist[position] = alist[position - gap]\n",
    "            position = position - gap\n",
    "        alist[position] = currentValue\n",
    "    return alist\n",
    "l1 = [38,24,86,34,23,12,54]\n",
    "ShellS(l1)\n",
    "l1\n",
    "#GapInS(l1,0,3)"
   ]
  },
  {
   "cell_type": "code",
   "execution_count": null,
   "metadata": {
    "pycharm": {
     "name": "#%%\n"
    }
   },
   "outputs": [],
   "source": [
    "\n",
    "def ShellSort_review(alist):\n",
    "    SublistCount = len(alist) // 2\n",
    "    while SublistCount > 0:\n",
    "        for startposition in range(SublistCount):\n",
    "            GapInsertionSort(alist,startposition,SublistCount)\n",
    "            print(\"when it has\",SublistCount,\"sublists\",\"alist=\",alist)\n",
    "        SublistCount = SublistCount // 2\n",
    "def GapInsertionSort(alist,start,gap):\n",
    "    for index in range(start + gap,len(alist)):\n",
    "        CurrentValue = alist[index]\n",
    "        position = index\n",
    "        while position >= gap and alist[position - gap] > CurrentValue:\n",
    "            alist[position] = alist[position - gap]\n",
    "            position -= gap\n",
    "        alist[position] = CurrentValue\n",
    "    return alist\n",
    "ShellSort_review([12,34,5,73,12,5,7,9,35,45,6,7,8,9,5,4,3,4,56])"
   ]
  },
  {
   "cell_type": "code",
   "execution_count": 4,
   "metadata": {
    "pycharm": {
     "name": "#%%\n"
    }
   },
   "outputs": [
    {
     "data": {
      "text/plain": [
       "[4, 5, 6, 23, 45, 67]"
      ]
     },
     "execution_count": 4,
     "metadata": {},
     "output_type": "execute_result"
    }
   ],
   "source": [
    "#MergeSort\n",
    "def Msort(alist):\n",
    "    if len(alist) > 1:\n",
    "        mid = len(alist) // 2\n",
    "        lefthalf = alist[:mid]\n",
    "        righthalf = alist[mid:]\n",
    "        Msort(lefthalf)\n",
    "        Msort(righthalf)\n",
    "        i=j=k=0\n",
    "        while(i < len(lefthalf) and j < len(righthalf)):\n",
    "            if lefthalf[i] < righthalf[j]:\n",
    "                alist[k] = lefthalf[i]\n",
    "                i += 1\n",
    "            else:\n",
    "                alist[k] = righthalf[j]\n",
    "                j += 1\n",
    "            k += 1\n",
    "        while i < len(lefthalf):\n",
    "            alist[k] = lefthalf[i]\n",
    "            i += 1\n",
    "            k += 1\n",
    "        while j < len(righthalf):\n",
    "            alist[k] = righthalf[j]\n",
    "            j += 1\n",
    "            k += 1\n",
    "    return alist\n",
    "Msort([67,45,23,5,6,4])\n",
    "    "
   ]
  },
  {
   "cell_type": "code",
   "execution_count": null,
   "metadata": {
    "pycharm": {
     "name": "#%%\n"
    }
   },
   "outputs": [],
   "source": [
    "#MergePython\n",
    "def MP(alist):\n",
    "    if len(alist) <= 1:\n",
    "        return alist\n",
    "    mid = len(alist) // 2\n",
    "    left = MP(alist[:mid])\n",
    "    right = MP(alist[mid:])\n",
    "    Merge = []\n",
    "    while(left and right):\n",
    "        if left[0] < right[0]:\n",
    "            Merge.append(left.pop(0))\n",
    "        else:\n",
    "            Merge.append(right.pop(0))\n",
    "    Merge.extend(left if left else right)\n",
    "    return Merge\n",
    "MP([2,4,3,5,67,45])\n",
    "            \n",
    "            "
   ]
  },
  {
   "cell_type": "code",
   "execution_count": null,
   "metadata": {
    "pycharm": {
     "name": "#%%\n"
    }
   },
   "outputs": [],
   "source": [
    "#归并排序+复习递归\n",
    "def MergeSort(alist):\n",
    "    if len(alist) > 1:\n",
    "        mid = len(alist) // 2\n",
    "        lefthalf = alist[:mid]\n",
    "        print(\"now the 1 left half is\",lefthalf)\n",
    "        righthalf = alist[mid:]\n",
    "        print(\"now the 1 righthalf half is\",righthalf)\n",
    "        MergeSort(lefthalf)\n",
    "        print(\"now the 2 lefhalf is\",lefthalf)\n",
    "        MergeSort(righthalf)\n",
    "        print(\"now the 2 righthalf is\",righthalf)\n",
    "        #print(\"now the lefthalf is \",lefthalf)\n",
    "        #print(\"now the righthalf is\",righthalf)\n",
    "        #Merged = []\n",
    "        #while righthalf and lefthalf:\n",
    "            #if righthalf[0] < lefthalf[0]:\n",
    "                #Merged.append(righthalf.pop())\n",
    "            #else:\n",
    "                #Merged.append(lefthalf.pop())\n",
    "        #Merged.extend(righthalf if righthalf else lefthalf)\n",
    "        #print(\"the final alist of this level = \",Merged)\n",
    "        #return Merged\n",
    "        i=j=k=0\n",
    "        while i<len(lefthalf) and j<len(righthalf):\n",
    "            if lefthalf[i] < righthalf[j]:\n",
    "                alist[k] = lefthalf[i]\n",
    "                i += 1\n",
    "            else:\n",
    "                alist[k] = righthalf[j]\n",
    "                j += 1\n",
    "            k += 1\n",
    "        while i<len(lefthalf):\n",
    "            alist[k] = lefthalf[i]\n",
    "            i += 1\n",
    "            k += 1\n",
    "        while j<len(righthalf):\n",
    "            alist[k] = righthalf[j]\n",
    "            j += 1\n",
    "            k += 1\n",
    "        print(\"Merge complete\",\"now the alist is\",alist)\n",
    "    return alist\n",
    "MergeSort([2,1,4,3])"
   ]
  },
  {
   "cell_type": "code",
   "execution_count": null,
   "metadata": {
    "pycharm": {
     "name": "#%%\n"
    }
   },
   "outputs": [],
   "source": [
    "#递归排序 Python风格\n",
    "def MergeSort2(lst):\n",
    "    if len(lst) <= 1:\n",
    "        return lst\n",
    "    middle = len(lst) // 2\n",
    "    left = MergeSort2(lst[:middle])\n",
    "    right = MergeSort2(lst[middle:])\n",
    "    print(\"now the left half is\",left)\n",
    "    print(\"now the right half is \",right)\n",
    "    print(\"now the lst is \",lst)\n",
    "    Merged = []\n",
    "    while right and left:\n",
    "        if right[0] < left[0]:\n",
    "            Merged.append(right.pop(0))\n",
    "        else:\n",
    "            Merged.append(left.pop(0))\n",
    "    Merged.extend(right if right else left)\n",
    "    print(\"the fina list of this level is\",Merged)\n",
    "    return Merged\n",
    "MergeSort2([12,3,5,4])"
   ]
  },
  {
   "cell_type": "code",
   "execution_count": null,
   "metadata": {
    "pycharm": {
     "name": "#%%\n"
    }
   },
   "outputs": [],
   "source": [
    "alist = []\n",
    "left = [23,345,66]\n",
    "right = [96,452,467]\n",
    "i=j=0\n",
    "while i < len(left) and j < len(right):\n",
    "    if left[i] < right[j]:\n",
    "        alist.append(left[i])\n",
    "        i += 1\n",
    "    else:\n",
    "        alist.append(right[i])\n",
    "        j += 1\n",
    "while i < len(left):\n",
    "    alist.append(left[i])\n",
    "    i += 1\n",
    "while j < len(right):\n",
    "    alist.append(right[j])\n",
    "    j += 1\n",
    "alist"
   ]
  },
  {
   "cell_type": "code",
   "execution_count": 2,
   "metadata": {
    "pycharm": {
     "name": "#%%\n"
    }
   },
   "outputs": [
    {
     "ename": "KeyboardInterrupt",
     "evalue": "",
     "output_type": "error",
     "traceback": [
      "\u001b[1;31m---------------------------------------------------------------------------\u001b[0m",
      "\u001b[1;31mKeyboardInterrupt\u001b[0m                         Traceback (most recent call last)",
      "\u001b[1;32m<ipython-input-2-f714bfea1f4b>\u001b[0m in \u001b[0;36m<module>\u001b[1;34m\u001b[0m\n\u001b[0;32m     29\u001b[0m     \u001b[1;32mreturn\u001b[0m \u001b[0mrightmark\u001b[0m\u001b[1;33m\u001b[0m\u001b[1;33m\u001b[0m\u001b[0m\n\u001b[0;32m     30\u001b[0m \u001b[0ml1\u001b[0m \u001b[1;33m=\u001b[0m\u001b[1;33m[\u001b[0m\u001b[1;36m180\u001b[0m\u001b[1;33m,\u001b[0m\u001b[1;36m23\u001b[0m\u001b[1;33m,\u001b[0m\u001b[1;36m45\u001b[0m\u001b[1;33m,\u001b[0m\u001b[1;36m7\u001b[0m\u001b[1;33m,\u001b[0m\u001b[1;36m54\u001b[0m\u001b[1;33m,\u001b[0m\u001b[1;36m3\u001b[0m\u001b[1;33m,\u001b[0m\u001b[1;36m5\u001b[0m\u001b[1;33m]\u001b[0m\u001b[1;33m\u001b[0m\u001b[1;33m\u001b[0m\u001b[0m\n\u001b[1;32m---> 31\u001b[1;33m \u001b[0mQuickSort\u001b[0m\u001b[1;33m(\u001b[0m\u001b[0ml1\u001b[0m\u001b[1;33m)\u001b[0m\u001b[1;33m\u001b[0m\u001b[1;33m\u001b[0m\u001b[0m\n\u001b[0m\u001b[0;32m     32\u001b[0m \u001b[0ml1\u001b[0m\u001b[1;33m\u001b[0m\u001b[1;33m\u001b[0m\u001b[0m\n",
      "\u001b[1;32m<ipython-input-2-f714bfea1f4b>\u001b[0m in \u001b[0;36mQuickSort\u001b[1;34m(alist)\u001b[0m\n\u001b[0;32m      1\u001b[0m \u001b[1;31m#快速排序法\u001b[0m\u001b[1;33m\u001b[0m\u001b[1;33m\u001b[0m\u001b[1;33m\u001b[0m\u001b[0m\n\u001b[0;32m      2\u001b[0m \u001b[1;32mdef\u001b[0m \u001b[0mQuickSort\u001b[0m\u001b[1;33m(\u001b[0m\u001b[0malist\u001b[0m\u001b[1;33m)\u001b[0m\u001b[1;33m:\u001b[0m\u001b[1;33m\u001b[0m\u001b[1;33m\u001b[0m\u001b[0m\n\u001b[1;32m----> 3\u001b[1;33m     \u001b[0mQuickSortHelper\u001b[0m\u001b[1;33m(\u001b[0m\u001b[0malist\u001b[0m\u001b[1;33m,\u001b[0m\u001b[1;36m0\u001b[0m\u001b[1;33m,\u001b[0m\u001b[0mlen\u001b[0m\u001b[1;33m(\u001b[0m\u001b[0malist\u001b[0m\u001b[1;33m)\u001b[0m \u001b[1;33m-\u001b[0m \u001b[1;36m1\u001b[0m\u001b[1;33m)\u001b[0m\u001b[1;33m\u001b[0m\u001b[1;33m\u001b[0m\u001b[0m\n\u001b[0m\u001b[0;32m      4\u001b[0m \u001b[1;33m\u001b[0m\u001b[0m\n\u001b[0;32m      5\u001b[0m \u001b[1;32mdef\u001b[0m \u001b[0mQuickSortHelper\u001b[0m\u001b[1;33m(\u001b[0m\u001b[0malist\u001b[0m\u001b[1;33m,\u001b[0m\u001b[0mfirst\u001b[0m\u001b[1;33m,\u001b[0m\u001b[0mlast\u001b[0m\u001b[1;33m)\u001b[0m\u001b[1;33m:\u001b[0m\u001b[1;33m\u001b[0m\u001b[1;33m\u001b[0m\u001b[0m\n",
      "\u001b[1;32m<ipython-input-2-f714bfea1f4b>\u001b[0m in \u001b[0;36mQuickSortHelper\u001b[1;34m(alist, first, last)\u001b[0m\n\u001b[0;32m      5\u001b[0m \u001b[1;32mdef\u001b[0m \u001b[0mQuickSortHelper\u001b[0m\u001b[1;33m(\u001b[0m\u001b[0malist\u001b[0m\u001b[1;33m,\u001b[0m\u001b[0mfirst\u001b[0m\u001b[1;33m,\u001b[0m\u001b[0mlast\u001b[0m\u001b[1;33m)\u001b[0m\u001b[1;33m:\u001b[0m\u001b[1;33m\u001b[0m\u001b[1;33m\u001b[0m\u001b[0m\n\u001b[0;32m      6\u001b[0m     \u001b[1;32mif\u001b[0m \u001b[0mfirst\u001b[0m \u001b[1;33m<\u001b[0m \u001b[0mlast\u001b[0m\u001b[1;33m:\u001b[0m\u001b[1;33m\u001b[0m\u001b[1;33m\u001b[0m\u001b[0m\n\u001b[1;32m----> 7\u001b[1;33m         \u001b[0mSplitPosition\u001b[0m \u001b[1;33m=\u001b[0m \u001b[0mPartition\u001b[0m\u001b[1;33m(\u001b[0m\u001b[0malist\u001b[0m\u001b[1;33m,\u001b[0m\u001b[0mfirst\u001b[0m\u001b[1;33m,\u001b[0m\u001b[0mlast\u001b[0m\u001b[1;33m)\u001b[0m\u001b[1;33m\u001b[0m\u001b[1;33m\u001b[0m\u001b[0m\n\u001b[0m\u001b[0;32m      8\u001b[0m         \u001b[0mQuickSortHelper\u001b[0m\u001b[1;33m(\u001b[0m\u001b[0malist\u001b[0m\u001b[1;33m,\u001b[0m\u001b[0mfirst\u001b[0m\u001b[1;33m,\u001b[0m\u001b[0mSplitPosition\u001b[0m \u001b[1;33m-\u001b[0m \u001b[1;36m1\u001b[0m\u001b[1;33m)\u001b[0m\u001b[1;33m\u001b[0m\u001b[1;33m\u001b[0m\u001b[0m\n\u001b[0;32m      9\u001b[0m         \u001b[0mQuickSortHelper\u001b[0m\u001b[1;33m(\u001b[0m\u001b[0malist\u001b[0m\u001b[1;33m,\u001b[0m\u001b[0mSplitPosition\u001b[0m \u001b[1;33m+\u001b[0m \u001b[1;36m1\u001b[0m\u001b[1;33m,\u001b[0m\u001b[0mlast\u001b[0m\u001b[1;33m)\u001b[0m\u001b[1;33m\u001b[0m\u001b[1;33m\u001b[0m\u001b[0m\n",
      "\u001b[1;32m<ipython-input-2-f714bfea1f4b>\u001b[0m in \u001b[0;36mPartition\u001b[1;34m(alist, first, last)\u001b[0m\n\u001b[0;32m     17\u001b[0m             \u001b[0mleftmark\u001b[0m \u001b[1;33m+=\u001b[0m \u001b[1;36m1\u001b[0m\u001b[1;33m\u001b[0m\u001b[1;33m\u001b[0m\u001b[0m\n\u001b[0;32m     18\u001b[0m         \u001b[1;32mwhile\u001b[0m \u001b[0mrightmark\u001b[0m \u001b[1;33m>\u001b[0m \u001b[0mleftmark\u001b[0m \u001b[1;32mand\u001b[0m \u001b[0malist\u001b[0m\u001b[1;33m[\u001b[0m\u001b[0mrightmark\u001b[0m\u001b[1;33m]\u001b[0m \u001b[1;33m>\u001b[0m \u001b[0mPivotValue\u001b[0m\u001b[1;33m:\u001b[0m\u001b[1;33m\u001b[0m\u001b[1;33m\u001b[0m\u001b[0m\n\u001b[1;32m---> 19\u001b[1;33m             \u001b[0mrightmark\u001b[0m \u001b[1;33m-=\u001b[0m \u001b[1;36m1\u001b[0m\u001b[1;33m\u001b[0m\u001b[1;33m\u001b[0m\u001b[0m\n\u001b[0m\u001b[0;32m     20\u001b[0m         \u001b[1;32mif\u001b[0m \u001b[0mleftmark\u001b[0m \u001b[1;33m>\u001b[0m \u001b[0mrightmark\u001b[0m\u001b[1;33m:\u001b[0m\u001b[1;33m\u001b[0m\u001b[1;33m\u001b[0m\u001b[0m\n\u001b[0;32m     21\u001b[0m             \u001b[0mdone\u001b[0m \u001b[1;33m=\u001b[0m \u001b[1;32mTrue\u001b[0m\u001b[1;33m\u001b[0m\u001b[1;33m\u001b[0m\u001b[0m\n",
      "\u001b[1;31mKeyboardInterrupt\u001b[0m: "
     ]
    }
   ],
   "source": [
    "#快速排序法\n",
    "def QuickSort(alist):\n",
    "    QuickSortHelper(alist,0,len(alist) - 1)\n",
    "\n",
    "def QuickSortHelper(alist,first,last):\n",
    "    if first < last:\n",
    "        SplitPosition = Partition(alist,first,last)\n",
    "        QuickSortHelper(alist,first,SplitPosition - 1)\n",
    "        QuickSortHelper(alist,SplitPosition + 1,last)\n",
    "def Partition(alist,first,last):\n",
    "    PivotValue = alist[first]\n",
    "    leftmark = first + 1\n",
    "    rightmark = last\n",
    "    done = False\n",
    "    while not done:\n",
    "        while leftmark =< rightmark and alist[leftmark] < PivotValue:\n",
    "            leftmark += 1\n",
    "        while rightmark >= leftmark and alist[rightmark] > PivotValue:\n",
    "            rightmark -= 1\n",
    "        if leftmark > rightmark:\n",
    "            done = True\n",
    "        else:\n",
    "            temp = alist[leftmark]\n",
    "            alist[leftmark] = alist[rightmark]\n",
    "            alist[rightmark] = temp\n",
    "    temp2 = alist[first]\n",
    "    alist[first] = alist[rightmark]\n",
    "    alist[rightmark] = temp2\n",
    "    return rightmark\n",
    "l1 =[180,23,45,7,54,3,5]\n",
    "QuickSort(l1)\n",
    "l1"
   ]
  },
  {
   "cell_type": "code",
   "execution_count": null,
   "metadata": {
    "pycharm": {
     "name": "#%%\n"
    }
   },
   "outputs": [],
   "source": [
    "#QuickSort\n",
    "def QS(alist):\n",
    "    Qhelper(alist,0,len(alist)-1)\n",
    "def Qhelper(alist,first,last):\n",
    "    if first < last:\n",
    "        splitPosition = partition(alist,first,last)\n",
    "        Qhelper(alist,first,splitPosition-1)\n",
    "        Qhelper(alist,splitPosition+1,last)\n",
    "def partition(alist,first,last):\n",
    "    pivotValue = alist[first]\n",
    "    leftMark = first + 1\n",
    "    rightMark = len(alist) - 1\n",
    "    done = False\n",
    "    while not done:\n",
    "        while leftMark <= rightMark and alist[leftMark] < pivotValue:\n",
    "            leftMark += 1\n",
    "        while rightMark>=leftMark and alist[rightMark] > pivotValue:\n",
    "            rightMark -= 1\n",
    "        if leftMark > rightMark:\n",
    "            done = True\n",
    "        else:\n",
    "            alist[leftMark],alist[rightMark] = alist[rightMark],alist[leftMark]\n",
    "    alist[first],alist[rightMark] = alist[rightMark],alist[first]\n",
    "    return rightMark\n",
    "l2 = [180,23,45,7,54,3,5]\n",
    "QS(l2)\n",
    "l2"
   ]
  },
  {
   "cell_type": "code",
   "execution_count": null,
   "metadata": {
    "pycharm": {
     "name": "#%%\n"
    }
   },
   "outputs": [],
   "source": [
    "#quicksort review\n",
    "def QuickSort(alist):\n",
    "    QuickSortHelper(alist,0,len(alist) - 1)\n",
    "    \n",
    "def QuickSortHelper(alist,first,last):\n",
    "    if first < last:\n",
    "        startpoint = Partition(alist,first,last)\n",
    "        QuickSortHelper(alist,first,startpoint-1)\n",
    "        QuickSortHelper(alist,startpoint+1,last)\n",
    "    \n",
    "def Partition(alist,first,last):\n",
    "    PivotValue = alist[first]\n",
    "    leftmark = first + 1\n",
    "    rightmark = last\n",
    "    done = False\n",
    "    while not done:\n",
    "        while leftmark <= rightmark and alist[leftmark] <= PivotValue:\n",
    "            leftmark += 1\n",
    "        while rightmark >= leftmark and alist[rightmark] >= PivotValue:\n",
    "            rightmark -= 1\n",
    "        if leftmark > rightmark:\n",
    "            done = True\n",
    "        else:\n",
    "            temp = alist[leftmark]\n",
    "            alist[leftmark] = alist[rightmark]\n",
    "            alist[rightmark] = temp\n",
    "    temp = alist[first]\n",
    "    alist[first] = alist[rightmark]\n",
    "    alist[rightmark] = temp\n",
    "    return rightmark\n",
    "l1 = [2,3,4,1,6]\n",
    "l2 = QuickSort(l1)\n",
    "print(l1)"
   ]
  },
  {
   "cell_type": "code",
   "execution_count": null,
   "metadata": {
    "pycharm": {
     "name": "#%%\n"
    }
   },
   "outputs": [],
   "source": [
    "#HashTable 哈希表\n",
    "class HashTable:\n",
    "    def __init__(self):\n",
    "        self.size = 11\n",
    "        self.slots = [None]*self.size\n",
    "        self.data = [None]*self.size\n",
    "    def HashFunction(self,key):\n",
    "        return key % self.size\n",
    "    def rehash(self,oldhash):\n",
    "        return (oldhash + 1) % self.size\n",
    "    def put(self,key,data):\n",
    "        hashvalue = self.HashFunction(key)\n",
    "        if self.slots[hashvalue] == None:\n",
    "            self.slots[hashvalue] = key\n",
    "            self.data[hashvalue] = data\n",
    "        else:\n",
    "            if self.slots[hashvalue] == key:\n",
    "                self.data[hashvalue] = data\n",
    "            else:\n",
    "                nextslot = self.rehash(hashvalue)\n",
    "                while self.slots[nextslot] != None and self.slots[nextslot] != key:\n",
    "                    nextslot = self.rehash(nextslot)\n",
    "                if self.slots[nextslot] == None:\n",
    "                    self.slots[nextslot] = key\n",
    "                    self.data[nextslot] = data\n",
    "                else:\n",
    "                    self.slots[nextslot] = data\n",
    "                    \n",
    "    def get(self,key):\n",
    "        data = None \n",
    "        found = False\n",
    "        stop = False\n",
    "        startslot = self.HashFunction(key)\n",
    "        position = startslot\n",
    "        while self.slots[position] != None and not stop and not found:\n",
    "            if self.slots[position] == key:\n",
    "                found = True\n",
    "                data = self.data[position]\n",
    "            else:\n",
    "                position = self.rehash(position)\n",
    "                if position == startslot:\n",
    "                    stop = True\n",
    "        return data\n",
    "    \n",
    "    def _getitem_(self,key):\n",
    "        return self.get(key)\n",
    "    def _setitem_(self,key,data):\n",
    "        return put(key,data)\n",
    "    \n",
    "                "
   ]
  },
  {
   "cell_type": "code",
   "execution_count": null,
   "metadata": {
    "pycharm": {
     "name": "#%%\n"
    }
   },
   "outputs": [],
   "source": [
    "#哈希表复习\n",
    "class HStable:\n",
    "    def __init__(self):\n",
    "        self.size = 11\n",
    "        self.slots = [None]*self.size\n",
    "        self.data = [None]*self.size\n",
    "    def HashFunction(self,key):\n",
    "        return key % self.size\n",
    "    def rehash(self,oldhash):\n",
    "        return (oldhash+1) % self.size\n",
    "    def put(self,key,data):\n",
    "        hashValue = self.HashFunction(key)\n",
    "        if self.slots[hashValue] == None:\n",
    "            self.slots[hashValue] = key\n",
    "            self.data[hashValue] = data\n",
    "        else:\n",
    "            if self.slots[hashValue] == key:\n",
    "                self.data[hashValue] = data\n",
    "            else:\n",
    "                nextSlot = self.rehash(hashValue)\n",
    "                while (self.slots[nextSlot] != key and self.slots[nextSlot] != None):\n",
    "                    nextSlot = self.rehash(nextSlot)\n",
    "                if self.slots[nextSlot] == None:\n",
    "                    self.slots[nextSlot] = key\n",
    "                    self.data[nextSlot] = data\n",
    "                else:\n",
    "                    self.data[nextSlot] = data\n",
    "    def get(self,key):\n",
    "        found = False\n",
    "        stop = False\n",
    "        data = None\n",
    "        startSlot = self.HashFunction(key)\n",
    "        position = startSlot\n",
    "        while (self.slots[position] != None and not stop and not found):\n",
    "            if self.slots[position] == key:\n",
    "                data = self.data[position]\n",
    "                found = True\n",
    "            else:\n",
    "                position = self.rehash(position)\n",
    "                if position == startSlot:\n",
    "                    stop = True\n",
    "        return data"
   ]
  },
  {
   "cell_type": "code",
   "execution_count": null,
   "metadata": {
    "pycharm": {
     "name": "#%%\n"
    }
   },
   "outputs": [],
   "source": [
    "d1 = HStable()\n",
    "d1.put(1,1000)\n",
    "d1.put(12,100)"
   ]
  },
  {
   "cell_type": "code",
   "execution_count": null,
   "metadata": {
    "pycharm": {
     "name": "#%%\n"
    }
   },
   "outputs": [],
   "source": [
    "d1.get(12)\n",
    "d1.get(1)"
   ]
  },
  {
   "cell_type": "code",
   "execution_count": null,
   "metadata": {
    "pycharm": {
     "name": "#%%\n"
    }
   },
   "outputs": [],
   "source": [
    "#HashTable review\n",
    "class HashTable2:\n",
    "    def __init__(self):\n",
    "        self.size = 11\n",
    "        self.slots = [None]*self.size\n",
    "        self.data = [None]*self.size\n",
    "    \n",
    "    def HashFunction(self,key):\n",
    "        return key % self.size\n",
    "    \n",
    "    def rehash(self,oldhash):\n",
    "        return (oldhash + 1) % self.size \n",
    "    \n",
    "    def put(self,key,data):\n",
    "        hashvalue = self.HashFunction(key)\n",
    "        if self.slots[hashvalue] == None:\n",
    "            self.slots[hashvalue] = key\n",
    "            self.data[hashvalue] = data\n",
    "        else:\n",
    "            if self.slots[hashvalue] == key:\n",
    "                self.data[hashvalue] = data \n",
    "            else:\n",
    "                nextslot = self.rehash(hashvalue)\n",
    "                while self.slots[nextslot] != None and self.slots[nextslot] != key:\n",
    "                    nextslot = rehash(nextslot)\n",
    "                if self.slots[nextslot] == key:\n",
    "                    self.data[nextslot] = data\n",
    "                else:\n",
    "                    self.slots[nextslot] = key\n",
    "                    self.data[nextslot] = data\n",
    "                    \n",
    "    def get(self,key):\n",
    "        found = False\n",
    "        stop = False\n",
    "        data = None\n",
    "        startpoint = self.HashFunction(key)\n",
    "        position = startpoint\n",
    "        while not found and not stop and self.slots[position] != None:#如果self.slots[key] == None 那么肯定不存在\n",
    "            if self.slots[position] == key:\n",
    "                data = self.data[position]\n",
    "                found = True \n",
    "            else:\n",
    "                position = self.rehash(position)\n",
    "                if position == startpoint:\n",
    "                    stop = True\n",
    "        return data"
   ]
  },
  {
   "cell_type": "code",
   "execution_count": null,
   "metadata": {
    "pycharm": {
     "name": "#%%\n"
    }
   },
   "outputs": [],
   "source": [
    "d2 = HashTable2()\n",
    "d2.put(12,100)\n",
    "d2.put(1,1000)\n",
    "d2.get(1)"
   ]
  },
  {
   "cell_type": "code",
   "execution_count": null,
   "metadata": {
    "pycharm": {
     "name": "#%%\n"
    }
   },
   "outputs": [],
   "source": [
    "#树 嵌套树\n",
    "def BinaryTree(r):\n",
    "    return [r,[],[]]\n",
    "\n",
    "def InsertLeft(root,newBranch):\n",
    "    t = root.pop(1)\n",
    "    if len(t) > 1:\n",
    "        root.insert(1,[newBranch,t,[]])\n",
    "    else:\n",
    "        root.insert(1,[newBranch,[],[]])\n",
    "        \n",
    "def InsertRight(root,newBranch):\n",
    "    t = root.pop(2)\n",
    "    if len(t) > 1:\n",
    "        root.insert(2,[newBranch,[],t])\n",
    "    else:\n",
    "        root.insert(2,[newBranch,[],[]])\n",
    "    \n"
   ]
  },
  {
   "cell_type": "code",
   "execution_count": null,
   "metadata": {
    "pycharm": {
     "name": "#%%\n"
    }
   },
   "outputs": [],
   "source": [
    "#链表实现\n",
    "class BinaryTree:\n",
    "    def __init__(self,rootObj):\n",
    "        self.key = rootObj\n",
    "        self.leftchild = None\n",
    "        self.rightchild = None \n",
    "    \n",
    "    def InsertLeft(self,newNode):\n",
    "        if self.leftchild == None:\n",
    "            self.leftchild = BinaryTree(newNode)\n",
    "        else:\n",
    "            t = BinaryTree(newNode)\n",
    "            t.leftchild = self.leftchild\n",
    "            self.leftchild = t\n",
    "    def InsertRight(self,newNode):\n",
    "        if self.rightchild == None:\n",
    "            self.rightchild = BinaryTree(newNode)\n",
    "        else:\n",
    "            t = BinaryTree(newNode)\n",
    "            t.rightchild = self.rightchild\n",
    "            self.rightchild = t\n",
    "    \n",
    "    def getRightchild(self):\n",
    "        return self.rightchild\n",
    "    def getLeftchild(self):\n",
    "        return self.leftchild\n",
    "    def SetRootval(self,val):\n",
    "        self.key = val\n",
    "    def getRootval(self):\n",
    "        return self.key"
   ]
  },
  {
   "cell_type": "code",
   "execution_count": null,
   "metadata": {
    "pycharm": {
     "name": "#%%\n"
    }
   },
   "outputs": [],
   "source": [
    "class BinaryTree2:\n",
    "    def __init__(self,rootObj):\n",
    "        self.key = rootObj\n",
    "        self.leftChild = None\n",
    "        self.rightChild = None\n",
    "    \n",
    "    def insertLeftChild(self,newNode):\n",
    "        if self.leftChild == None:\n",
    "            self.leftChild = BinaryTree2(newNode)\n",
    "        else:\n",
    "            t = BinaryTree2(newNode)\n",
    "            t.leftChild = self.leftChild\n",
    "            self.leftChild = t\n",
    "    def insertRightChild(self,newNode):\n",
    "        if self.rightChild == None:\n",
    "            self.rightChild = BinaryTree2(newNode)\n",
    "        else:\n",
    "            t = BinaryTree2(newNode)\n",
    "            t.rightChild = self.rightChild\n",
    "            self.rightChild = t\n",
    "    def getRightChild(self):\n",
    "        return self.rightChild\n",
    "    def getLeftChild(self):\n",
    "        return self.leftChild\n",
    "    def setRootVal(self,val):\n",
    "        self.key = val\n",
    "    def getRootVal(self):\n",
    "        return self.key\n",
    "    "
   ]
  },
  {
   "cell_type": "code",
   "execution_count": null,
   "metadata": {
    "pycharm": {
     "name": "#%%\n"
    }
   },
   "outputs": [],
   "source": [
    "#表达式解析review\n",
    "def buildParseTree(fpexp):\n",
    "    fpList = fpexp.split()\n",
    "    pStack = Stack()\n",
    "    eTree = BinaryTree2(\"\")\n",
    "    pStack.push(eTree)\n",
    "    currentTree = eTree\n",
    "    for token in fpList:\n",
    "        if token == \"(\":\n",
    "            currentTree.insertLeftChild(\"\")\n",
    "            pStack.push(currentTree)\n",
    "            currentTree = currentTree.leftChild\n",
    "        elif token not in [\"(\",\")\",\"+\",\"-\",\"*\",\"/\"]:\n",
    "            currentTree.setRootVal(int(token))\n",
    "            currentTree = pStack.pop()\n",
    "        elif token in [\"+\",\"-\",\"*\",\"/\"]:\n",
    "            currentTree.setRootVal(token)\n",
    "            currentTree.insertRightChild(\"\")\n",
    "            pStack.push(currentTree)\n",
    "            currentTree = currentTree.rightChild\n",
    "        elif token == \")\":\n",
    "            currentTree = pStack.pop()\n",
    "        else:\n",
    "            raise ValueError\n",
    "    return currentTree\n",
    "import operator\n",
    "def Evaluate1(ParseTree):\n",
    "    operation = {\"+\":operator.add,\"-\":operator.sub,\"*\":operator.mul,\"/\":operator.truediv}\n",
    "    if ParseTree:\n",
    "        res1 = Evaluate1(ParseTree.leftChild)\n",
    "        res2 = Evaluate1(ParseTree.rightChild)\n",
    "        if res1 and res2:\n",
    "            return operation[ParseTree.getRootVal()](res1,res2)\n",
    "        else:\n",
    "            return ParseTree.getRootVal()\n",
    "def Evaluate2(ParseTree):\n",
    "    operation = {\"+\":operator.add,\"-\":operator.sub,\"*\":operator.mul,\"/\":operator.truediv}\n",
    "    res1 = ParseTree.getLeftChild()\n",
    "    res2 = ParseTree.getRightChild()\n",
    "    if res1 and res2:\n",
    "        fn = operation[ParseTree.getRootVal()]\n",
    "        return fn(Evaluate2(res1),Evaluate2(res2))\n",
    "    else:\n",
    "        return ParseTree.getRootVal()"
   ]
  },
  {
   "cell_type": "code",
   "execution_count": null,
   "metadata": {
    "pycharm": {
     "name": "#%%\n"
    }
   },
   "outputs": [],
   "source": [
    "Evaluate1(buildParseTree(\"( 3 + ( 4 * 5 ) )\")) \n",
    "#testTree = buildParseTree(\"( 3 + ( 4 * 5 ) )\")\n",
    "#testTree.rightChild.leftChild.getRootVal()\n",
    "#\"( 3 + ( 4 * 5 ) )\".split()"
   ]
  },
  {
   "cell_type": "code",
   "execution_count": null,
   "metadata": {
    "pycharm": {
     "name": "#%%\n"
    }
   },
   "outputs": [],
   "source": [
    "r = BinaryTree(\"a\")\n",
    "r.InsertLeft(\"b\")\n",
    "r.InsertRight(\"c\")\n",
    "r.getRightchild().SetRootval(\"hello world\")\n",
    "r.getLeftchild().InsertLeft(\"three level\")\n",
    "r.getLeftchild().getLeftchild().getRootval()"
   ]
  },
  {
   "cell_type": "code",
   "execution_count": null,
   "metadata": {
    "pycharm": {
     "name": "#%%\n"
    }
   },
   "outputs": [],
   "source": [
    "class Stack: # ADT Stack\n",
    "    def __init__(self):\n",
    "        self.items = []\n",
    "        \n",
    "    def isEmpty(self):\n",
    "        return self.items == []\n",
    "    \n",
    "    def push(self,item):\n",
    "        return self.items.append(item)\n",
    "    \n",
    "    def pop(self):\n",
    "        return self.items.pop()\n",
    "    \n",
    "    def peek(self):\n",
    "        return self.items[len(self.items)-1]\n",
    "    \n",
    "    def size(self):\n",
    "        return len(self.items)"
   ]
  },
  {
   "cell_type": "code",
   "execution_count": null,
   "metadata": {
    "pycharm": {
     "name": "#%%\n"
    }
   },
   "outputs": [],
   "source": [
    "#表达式解析\n",
    "def buildParseTree(fpexp):\n",
    "    fplist = fpexp.split()\n",
    "    eTree = BinaryTree(\"\")\n",
    "    pStack = Stack()\n",
    "    pStack.push(eTree)\n",
    "    CurrentTree = eTree\n",
    "    for token in fplist:\n",
    "        if token == \"(\":\n",
    "            CurrentTree.InsertLeft(\"\")\n",
    "            pStack.push(CurrentTree)\n",
    "            CurrentTree = CurrentTree.getLeftchild()\n",
    "        elif token not in [\"+\",\"-\",\"*\",\"/\",\")\"]:\n",
    "            CurrentTree.SetRootval(int(token))\n",
    "            CurrentTree = pStack.pop()\n",
    "        elif token in [\"+\",\"-\",\"*\",\"/\"]:\n",
    "            CurrentTree.SetRootval(token)\n",
    "            CurrentTree.InsertRight(\"\")\n",
    "            pStack.push(CurrentTree)\n",
    "            CurrentTree = CurrentTree.getRightchild()\n",
    "        elif token == \")\":\n",
    "            CurrentTree = pStack.pop()\n",
    "        else:\n",
    "            raise ValueError\n",
    "    return CurrentTree"
   ]
  },
  {
   "cell_type": "code",
   "execution_count": null,
   "metadata": {
    "pycharm": {
     "name": "#%%\n"
    }
   },
   "outputs": [],
   "source": [
    "Tree_1 = buildParseTree(Exp)\n",
    "Tree_1.getLeftchild().getRootval()"
   ]
  },
  {
   "cell_type": "code",
   "execution_count": null,
   "metadata": {
    "pycharm": {
     "name": "#%%\n"
    }
   },
   "outputs": [],
   "source": [
    "import operator\n",
    "def Evaluate(parseTree):\n",
    "    operation = {\"*\":operator.mul,\"/\":operator.truediv,\"+\":operator.add,\"-\":operator.sub}\n",
    "    LeftC = parseTree.getLeftchild()\n",
    "    RightC = parseTree.getRightchild()\n",
    "    if LeftC and RightC:\n",
    "        fn = operation[parseTree.getRootval()]\n",
    "        return fn(Evaluate(LeftC),Evaluate(RightC))\n",
    "    else:\n",
    "        return parseTree.getRootval()\n",
    "    "
   ]
  },
  {
   "cell_type": "code",
   "execution_count": null,
   "metadata": {
    "pycharm": {
     "name": "#%%\n"
    }
   },
   "outputs": [],
   "source": [
    "Exp = \"( 3 + ( 4 * 5 ) )\"\n",
    "Evaluate(Tree_1)"
   ]
  },
  {
   "cell_type": "code",
   "execution_count": null,
   "metadata": {
    "pycharm": {
     "name": "#%%\n"
    }
   },
   "outputs": [],
   "source": [
    "#树的遍历 后序表达式实现\n",
    "import operator\n",
    "def postEvaluate(tree):\n",
    "    operation = {\"+\":operator.add,\"-\":operator.sub,\"*\":operator.mul,\"/\":operator.truediv}\n",
    "    res1 = None\n",
    "    res2 = None\n",
    "    if tree:\n",
    "        res1 = postEvaluate(tree.getLeftchild())\n",
    "        res2 = postEvaluate(tree.getRightchild())\n",
    "        if res1 and res2:\n",
    "            return operation[tree.getRootval()](res1,res2)\n",
    "        else:\n",
    "            return tree.getRootval()"
   ]
  },
  {
   "cell_type": "code",
   "execution_count": null,
   "metadata": {
    "pycharm": {
     "name": "#%%\n"
    }
   },
   "outputs": [],
   "source": [
    "postEvaluate(Tree_1)"
   ]
  },
  {
   "cell_type": "code",
   "execution_count": null,
   "metadata": {
    "pycharm": {
     "name": "#%%\n"
    }
   },
   "outputs": [],
   "source": [
    "#二叉堆\n",
    "class BinHeapA:\n",
    "    def __init__(self):\n",
    "        self.heaplist = [0]\n",
    "        self.currentsize = 0\n",
    "        \n",
    "    def Insert(self,key):\n",
    "        self.heaplist.append(key)\n",
    "        self.currentsize += 1\n",
    "        self.percUp(self.currentsize)\n",
    "    \n",
    "    def percUp(self,i):\n",
    "        while (i // 2 > 0):\n",
    "            if heaplist[i] < heaplist[i // 2]:\n",
    "                temp = heaplist[i]\n",
    "                heaplist[i] = heaplist[i // 2]\n",
    "                heaplist[i // 2] = temp\n",
    "            i = i // 2 \n",
    "            \n",
    "    def delMin(self):\n",
    "        retval = self.heaplist[1]\n",
    "        self.heaplist[1] = self.heaplist[currentsize]\n",
    "        self.heaplist.pop()\n",
    "        self.currentsize -= 1\n",
    "        self.percDown(1)\n",
    "        return retval\n",
    "    \n",
    "    def percDown(self,i):\n",
    "        while (i * 2 < self.currentsize):\n",
    "            mc = self.getMinchild(i)\n",
    "            if self.heaplist[i] > self.heaplist[mc]:\n",
    "                temp = self.heaplist[i]\n",
    "                self.heaplist[i] = self.heaplist[mc]\n",
    "                self.heaplist[mc] = temp\n",
    "            i = mc\n",
    "    def getMinchild(self,i):\n",
    "        if (i * 2 + 1) > self.currentsize:\n",
    "            return i * 2\n",
    "        else:\n",
    "            if self.heaplist[i * 2] > self.heaplist[i * 2 + 1]:\n",
    "                return (i * 2 + 1)\n",
    "            else:\n",
    "                return i * 2\n",
    "    \n",
    "    def BuildHeap(self,alist):#下沉法造二叉堆\n",
    "        i = len(alist) // 2\n",
    "        self.currentsize = len(alist)\n",
    "        self.heaplist = [0] + alist\n",
    "        print(len(self.heaplist),i)\n",
    "        while (i > 0):\n",
    "            print(self.heaplist,i)\n",
    "            self.percDown(i)\n",
    "            i -= 1\n",
    "        print(self.heaplist,i)"
   ]
  },
  {
   "cell_type": "code",
   "execution_count": null,
   "metadata": {
    "pycharm": {
     "name": "#%%\n"
    }
   },
   "outputs": [],
   "source": [
    "def Insert(self,key):\n",
    "    self.heapList.append(key)\n",
    "    self.currentSize += 1\n",
    "    self.percUp(currentSize)\n",
    "def percUp(self,i):\n",
    "    while (i //2 ) > 0:\n",
    "        if self.heapList[i] < self.heapList[i // 2]:\n",
    "            #交换\n",
    "        i = i// 2\n",
    "def delMin(self):\n",
    "    retreval = self.heapList[1]\n",
    "    self.heapList[1] = self.heapList[currentSize]\n",
    "    self.heapList.pop()\n",
    "    self.percDown(1)\n",
    "def percDown(self,i):\n",
    "    while (i * 2 <= self.currentSize):\n",
    "        mc = self.getMinChild(i)\n",
    "        if self.heapList[i] > self.heapList[mc]:\n",
    "            #交换位置\n",
    "        i = mc\n",
    "def getMinChild(self,i):\n",
    "    if i*2 + 1 > self.currentSize:\n",
    "        return i*2\n",
    "    else:\n",
    "        if heapList[i*2] > heapList[i*2 + 1]:\n",
    "            return i*2 + 1\n",
    "        else:\n",
    "            return i*2"
   ]
  },
  {
   "cell_type": "code",
   "execution_count": null,
   "metadata": {
    "pycharm": {
     "name": "#%%\n"
    }
   },
   "outputs": [],
   "source": [
    "class BinHeap:\n",
    "    def __init__(self):\n",
    "        self.currentsize = 0\n",
    "        self.heapList = [0]\n",
    "    def Insert(self,key):\n",
    "        self.heapList.append(key)\n",
    "        self.currentsize += 1\n",
    "        self.percUp(self.currentsize)\n",
    "    def percUp(self,i):\n",
    "        while (i // 2 ) > 0:\n",
    "            if self.heapList[i] < self.heapList[i // 2]:\n",
    "                temp = self.heapList[i]\n",
    "                self.heapList[i] = self.heapList[i // 2]\n",
    "                self.heapList[i // 2]  = temp\n",
    "            i = i // 2\n",
    "    def delMin(self):\n",
    "        retreval = self.heapList[1]\n",
    "        self.heapList[1] = self.heapList[currentsize]\n",
    "        self.heapList.pop()\n",
    "        self.percDown(1)\n",
    "        return retreval\n",
    "    def percDown(self,i):\n",
    "        while(i*2) <= self.currentsize:\n",
    "            mc = self.getMinchild(i)\n",
    "            if self.heapList[i] > self.heapList[mc]:\n",
    "                self.heapList[i],self.heapList[mc] = self.heapList[mc],self.heapList[i]\n",
    "            i = mc\n",
    "    def getMinchild(self,i):\n",
    "        if (i*2+1) > self.currentsize:\n",
    "            return i*2\n",
    "        else:\n",
    "            if self.heapList[i*2] > self.heapList[i*2+1]:\n",
    "                return i*2+1\n",
    "            else:\n",
    "                return i*2\n",
    "    def BuildHeap(self,alist):\n",
    "        i = len(alist) // 2\n",
    "        self.heapList = [0] + alist\n",
    "        self.currentsize = len(alist)\n",
    "        while (i > 0):\n",
    "            self.percDown(i)\n",
    "            i -= 1\n",
    "        return self.heapList"
   ]
  },
  {
   "cell_type": "code",
   "execution_count": null,
   "metadata": {
    "pycharm": {
     "name": "#%%\n"
    }
   },
   "outputs": [],
   "source": [
    "lst1 = [21,45,57,34,18]\n",
    "BH = BinHeapA()\n",
    "BH.BuildHeap(lst1)"
   ]
  },
  {
   "cell_type": "code",
   "execution_count": null,
   "metadata": {
    "pycharm": {
     "name": "#%%\n"
    }
   },
   "outputs": [],
   "source": [
    "#二叉查找树与AVL树\n",
    "class TreeNode:\n",
    "    def __init__(self,key,value,left=None,right=None,parent=None):\n",
    "        self.key = key\n",
    "        self.payLoad = value\n",
    "        self.leftChild = left\n",
    "        self.rightChild = right\n",
    "        self.parent = parent\n",
    "    def hasLeftChild(self):\n",
    "        return self.leftChild\n",
    "    def hasRightChild(self):\n",
    "        return self.rightChild\n",
    "    def isLeftChild(self):\n",
    "        return self.parent and self.parent.leftChild == self\n",
    "    def isRightChild(self):\n",
    "        return self.parent and self.parent.rightChild == self\n",
    "    def isRoot(self):\n",
    "        return not self.parent\n",
    "    def isLeaf(self):\n",
    "        return not (self.leftChild or self.rightChild)\n",
    "    def hasanychildren(self):\n",
    "        return self.leftchild or self.rightchild\n",
    "    def hasbothchildren(self):\n",
    "        return self.leftchildren and self.rightchildren\n",
    "    def replaceNodeData(self,key,value,left,right):\n",
    "        self.key = key\n",
    "        self.payload = value\n",
    "        self.leftchild = left\n",
    "        self.rightchild = right\n",
    "        if self.hasLeftchild():\n",
    "            self.lefechild.parent == self\n",
    "        if self.hasRightchild():\n",
    "            self.rightchild.parent == self\n",
    "    def __iter__(self):\n",
    "        if self:\n",
    "            if self.hasLeftchild():\n",
    "                for elem in self.leftchild:\n",
    "                    yield elem\n",
    "            yield self,key\n",
    "            if self.hasRightchild():\n",
    "                for elem in self.rightchild:\n",
    "                    yield elem\n",
    "            yield self.key"
   ]
  },
  {
   "cell_type": "code",
   "execution_count": null,
   "metadata": {
    "pycharm": {
     "name": "#%%\n"
    }
   },
   "outputs": [],
   "source": [
    "class BST:\n",
    "    def __init__(self):\n",
    "        self.size = 0 \n",
    "        self.root = None\n",
    "    def put(self,key,value):\n",
    "        if self.root:\n",
    "            self._put(key,value,self.root)\n",
    "        else:\n",
    "            self.root = TreeNode(key,value)\n",
    "        self.size += 1\n",
    "    def _put(self,key,value,currrentNode):\n",
    "        if key < currentNode.key:\n",
    "            if currentNode.hasLeftChild():\n",
    "                self._put(key,value,currentNode.leftChild)\n",
    "            else:\n",
    "                currentNode.leftChild = TreeNode(key,value,parent=currentNode)\n",
    "        else:\n",
    "            if currentNode.hasRightChild():\n",
    "                self._put(key,value,currentNode.rightChild)\n",
    "            else:\n",
    "                currentNode.rightChild = TreeNode(key,value,parent=currentNode)\n",
    "    def get(self,key):\n",
    "        if self.root:\n",
    "            res = self._get(key,self.root)\n",
    "            if res:\n",
    "                res.payLoad\n",
    "            else:\n",
    "                return None\n",
    "        else:\n",
    "            return None\n",
    "    \n",
    "    def _get(self,key,currentNode):\n",
    "        if not currentNode:\n",
    "            return Node\n",
    "        elif key == currentNode.key:\n",
    "            return currentNode\n",
    "        elif key < currentNode.key:\n",
    "            self._get(key,currentNode.leftChild)\n",
    "        else:\n",
    "            self._get(key,currentNode.rightChild)\n",
    "    def remove"
   ]
  },
  {
   "cell_type": "code",
   "execution_count": null,
   "metadata": {
    "pycharm": {
     "name": "#%%\n"
    }
   },
   "outputs": [],
   "source": [
    "#二叉查找树\n",
    "class TreeNode:\n",
    "    def __init__(self,key,value,left=None,right=None,parent=None):\n",
    "        self.key = key\n",
    "        self.payload = value\n",
    "        self.leftchild = left\n",
    "        self.rightchild = right\n",
    "        self.parent = parent\n",
    "    \n",
    "    def hasLefttchild(self):\n",
    "        return self.leftchild\n",
    "    def hasRightchild(self):\n",
    "        return self.rightchild\n",
    "    def isLeftchild(self):\n",
    "        return self.parent and self.parent.leftchild == self\n",
    "    def isRightchild(self):\n",
    "        return self.parent and self.parent.rightchild == self\n",
    "    def isRoot(self):\n",
    "        return not self.parent\n",
    "    def isLeaft(self):\n",
    "        return not (self.leftchild or self.rightchild)\n",
    "    def hasanychildren(self):\n",
    "        return self.leftchild or self.rightchild\n",
    "    def hasbothchildren(self):\n",
    "        return self.leftchildren and self.rightchildren\n",
    "    def replaceNodeData(self,key,value,left,right):\n",
    "        self.key = key\n",
    "        self.payload = value\n",
    "        self.leftchild = left\n",
    "        self.rightchild = right\n",
    "        if self.hasLeftchild():\n",
    "            self.lefechild.parent == self\n",
    "        if self.hasRightchild():\n",
    "            self.rightchild.parent == self\n",
    "    def __iter__(self):\n",
    "        if self:\n",
    "            if self.hasLeftchild():\n",
    "                for elem in self.leftchild:\n",
    "                    yield elem\n",
    "            yield self,key\n",
    "            if self.hasRightchild():\n",
    "                for elem in self.rightchild:\n",
    "                    yield elem\n",
    "            yield self.key\n",
    "    \n",
    "    def findSuccessor(self):\n",
    "        succ = None\n",
    "        if self.hasRightchild():\n",
    "            succ = self.rightchild.getMinleft()#右子树当中的最小值\n",
    "        return succ\n",
    "    def getMinleft(self):\n",
    "        CurrentNode = self\n",
    "        while CurrentNode.hasLeftchild():\n",
    "            CurrentNode = CurrentNode.leftchild\n",
    "        return CurrentNode\n",
    "    def spliceOut(self):\n",
    "        if self.hasRightchild():\n",
    "            self.parent.leftchild = self.rightchild\n",
    "            self.rightchild.parent = self.parent#有疑问\n",
    "        else:\n",
    "            self.parent.leftchild = None"
   ]
  },
  {
   "cell_type": "code",
   "execution_count": null,
   "metadata": {
    "pycharm": {
     "name": "#%%\n"
    }
   },
   "outputs": [],
   "source": [
    "class BinaryTreeSearch:\n",
    "    def __init__(self):\n",
    "        self.size = 0\n",
    "        self.root = None\n",
    "        \n",
    "    def length(self):\n",
    "        return self.size\n",
    "    def __len__(self):\n",
    "        return self.size\n",
    "    def __iter__(self):\n",
    "        return self.root.__iter__()\n",
    "    \n",
    "    def put(self,key,val):\n",
    "        if self.root:\n",
    "            self._put(key,val,self.root)\n",
    "        else:\n",
    "            self.root = TreeNode(key,val)\n",
    "        self.size += 1\n",
    "        \n",
    "    def _put(self,key,val,CurrentNode):\n",
    "        if key < CurrentNode.key:\n",
    "            if CurrentNode.hasLeftchild():\n",
    "                self._put(key,val,CurrentNode.leftchild)\n",
    "            else:\n",
    "                CurrentNode.leftchild = TreeNode(key,val,parent = CurrentNode)\n",
    "        else:\n",
    "            if CurrentNode.hasRightchild():\n",
    "                self._put(key,val,CurrentNode.rightchild)\n",
    "            else:\n",
    "                CurrentNode.rightchild = TreeNode(key,val,parent = CurrentNode)\n",
    "                \n",
    "    def __setitem__(self,k,v):\n",
    "        self.put(k,v)\n",
    "    \n",
    "    def get(self,key):\n",
    "        if self.root:\n",
    "            res = _get(key,self.root)\n",
    "            if res:\n",
    "                return res.payload\n",
    "            else:\n",
    "                return None\n",
    "        else:\n",
    "            return None\n",
    "        \n",
    "    def _get(self,key,CurrentNode):\n",
    "        if not CurrentNode:\n",
    "            return None\n",
    "        elif key == CurrentNode.key:\n",
    "            return CurrentNode\n",
    "        elif key < CurrentNode.key:\n",
    "            return _get(key,CurrentNode.leftchild)\n",
    "        elif key > CurrentNode.key:\n",
    "            return _get(key,CurrentNode.rightchild)\n",
    "        \n",
    "    def __getitem__(self,key):\n",
    "        return self.get(key)\n",
    "    def __contains__(self,key):\n",
    "        if self._get(key,self.root):\n",
    "            return True\n",
    "        else:\n",
    "            return False\n",
    "        \n",
    "    def delete(self,key):\n",
    "        if self.size > 1:\n",
    "            NodetoRemove = self._get(key,self.root)\n",
    "            if NodetoRemove:\n",
    "                self.Remove(NodetoRemove)\n",
    "                self.size = self.size - 1\n",
    "            else:\n",
    "                raise KeyError(\"the key is not exist\")\n",
    "        elif self.size == 1 and self.root.key == key:\n",
    "            self.size = 0\n",
    "            self.root.key = None\n",
    "        else:\n",
    "            raise KeyError(\"the key is not exist\")\n",
    "    def Remove(self,CurrentNode):\n",
    "        if CurrentNode.isLeaft():\n",
    "            if CurrentNode == CurrentNode.parent.leftchild:\n",
    "                CurrentNode.parent.leftchild = None\n",
    "            else:\n",
    "                CurrentNode.parent.rightchild = None\n",
    "        elif CurrentNode.hasbothchild():\n",
    "            succ = CurrentNode.findSuccessor()\n",
    "            succ.spliceOut()\n",
    "            CurrentNode.key = succ.key\n",
    "            CurrentNode.payload = succ.payload\n",
    "        else:\n",
    "            if self.hasLeftchild():\n",
    "                if CurrentNode.isLeftchild():\n",
    "                    CurrentNode.parent.leftchild = CurrentNode.leftchild\n",
    "                    CurrentNode.leftchild.parent = CurrentNode.parent\n",
    "                elif CurrentNode.isRightchild():\n",
    "                    CurrentNode.parent.rightchild = CurrentNode.leftchild\n",
    "                    CurrentNode.leftchild.parent = CurrentNode.parent\n",
    "                else:\n",
    "                    self.replaceNodeData(CurrentNode.leftchild.key,\n",
    "                                        CurrentNode.leftchild.payload,\n",
    "                                        CurrentNode.leftchild.leftchild,\n",
    "                                        CurrentNode.leftchild.rightchild)\n",
    "            if CurrentNode.hasRightchild():\n",
    "                if CurrentNode.isLeftchild():\n",
    "                    CurrentNode.parent.leftchild = CurrentNode.rightchild\n",
    "                    CurrentNode.rightchild.parent = CurrentNode.parent\n",
    "                elif CurrentNode.isRightchild():\n",
    "                    CurrentNode.parent.rightchild = CurrentNode.rightchild\n",
    "                    CurrentNode.rightchild.parent = CurrentNode.parent\n",
    "                else:\n",
    "                    CurrentNode.replaceNodeData(CurrentNode.rightchild.key,\n",
    "                                        CurrentNode.rightchild.payload,\n",
    "                                        CurrentNode.rightchild.leftchild,\n",
    "                                        CurrentNode.rightchild.rightchild)\n",
    "                "
   ]
  },
  {
   "cell_type": "code",
   "execution_count": null,
   "metadata": {
    "pycharm": {
     "name": "#%%\n"
    }
   },
   "outputs": [],
   "source": [
    "#AVL树\n",
    "class AVLTree:\n",
    "    def __init__(self):\n",
    "        self.root = None\n",
    "        self.size = 0\n",
    "    def put(self,key,value):\n",
    "        if self.root:\n",
    "            self._put(key,value,self.root)\n",
    "        else:\n",
    "            self.root = TreeNode(key,value)\n",
    "    def _put(self,key,value,CurrentNode):\n",
    "        if key < CurrentNode.key:\n",
    "            if CurrentNode.hasLeftchild():\n",
    "                self._put(key,value,CurrentNode.leftchild)\n",
    "            else:\n",
    "                CurrentNode.leftchild = TreeNode(key,value)\n",
    "                self.UpdateBalance(CurrentNode.leftchild)\n",
    "        else:\n",
    "            if CurrentNode.hasRightchild():\n",
    "                self._put(key,value,CurrentNode.rightchild)\n",
    "            else:\n",
    "                CurrentNode.rightchild = TreeNode(key,value)\n",
    "                self.UpdateBalance(CurrentNode.leftchild)\n",
    "    \n",
    "    def UpdateBalance(self,Node):\n",
    "        if Node.BF > 1 or Node.BF < -1:\n",
    "            self.rebalance(Node)\n",
    "            return \n",
    "        if Node.parent != None:\n",
    "            if Node.isLeftchild():\n",
    "                Node.parent.BF += 1\n",
    "            else:\n",
    "                Node.parent.BF -= 1\n",
    "        if Node.parent.BF != 0:\n",
    "            self.UpdateBalance(Node.parent)\n",
    "    \n",
    "    def rebalance(self,Node):\n",
    "        if Node.BF < 0: #右重 需要左旋\n",
    "            if Node.rightchild.BF > 0:\n",
    "                self.rightRotate(Node.rightchild)\n",
    "                self.leftRotate(Node)\n",
    "            else:\n",
    "                self.leftRotate(Node)\n",
    "        elif Node.BF > 0 : #左重 需要右旋\n",
    "            if Node.leftchild.BF < 0:\n",
    "                self.leftRotate(Node.leftchild)\n",
    "                self.rightRotate(Node)\n",
    "            else:\n",
    "                self.rightRotate(Node)\n",
    "    \n",
    "    def leftRotate(self,rotRoot):\n",
    "        newRoot = rotRoot.rightchild\n",
    "        rotRoot.rightchild = newRoot.leftchild\n",
    "        if rotRoot.rightchild:\n",
    "            newRoot.leftchild.parent = rotRoot\n",
    "        newRoot.parent = rotRoot.parent\n",
    "        if rotRoot.isRoot():\n",
    "            self.root = newRoot\n",
    "        else:\n",
    "            if rotRoot.isLeftchild():\n",
    "                rotRoot.parent.leftchild = newRoot\n",
    "            else:\n",
    "                rotRoot.parent.rightchild = newRoot\n",
    "        newRoot.leftchild = rotRoot\n",
    "        rotRoot.parent = newRoot\n",
    "        rotRoot.BF = rotRoot.BF + 1 - min(newRoot.BF,0)\n",
    "        newRoot.BF = newRoot + 1 + max(rotRoot.BF,0)\n",
    "    \n",
    "    def rightRotate(self,rotRoot):\n",
    "        newRoot = rotRoot.leftchild\n",
    "        rotRoot.leftchild = newRoot.rightchild\n",
    "        if rotRoot.leftchild != None:\n",
    "            newRoot.rightchild.parent = rotRoot\n",
    "        newRoot.parent = rotRoot.parent\n",
    "        if rotRoot.isRoot():\n",
    "            self.root = newRoot\n",
    "        else:\n",
    "            if rotRoot.isLeftchild():\n",
    "                self.rotRoot.parent.leftchild = newRoot\n",
    "            else:\n",
    "                self.rotRoot.parent.rightchild = newRoot\n",
    "        newRoot.rightchild = rotRoot\n",
    "        rotRoot.parent = newRoot\n",
    "        rotRoot.BF = rotRoot.BF + 1 - min(newRoot.BF,0)\n",
    "        newRoot.BF = newRoo.BF + 1 + max(rotRoot.BF,0)\n",
    "    "
   ]
  },
  {
   "cell_type": "code",
   "execution_count": null,
   "metadata": {
    "pycharm": {
     "name": "#%%\n"
    }
   },
   "outputs": [],
   "source": [
    "class AVL2:\n",
    "    def __init__(self):\n",
    "        self.root = None\n",
    "        self.size = 0\n",
    "    def upDateBalance(self,Node):\n",
    "    \n",
    "    def leftRotate(self,rotRoot):\n",
    "        newRoot = rotRoot.rightChild\n",
    "        rotRoot.rightChild = newRoot.leftChild\n",
    "        if newRoot.leftChild != None:\n",
    "            newRoot.leftChild.parent = rotRoot\n",
    "        newRoot.parent = rotRoot.parent\n",
    "        if rotRoot.isRoot():\n",
    "            self.root = newRoot\n",
    "        else:\n",
    "            if rotRoot.isLeftChild():\n",
    "                rotRoot.parent.leftChild = newRoot\n",
    "            else:\n",
    "                rotRoot.parent.rightChild = newRoot\n",
    "        newRoot.leftChild = rotRoot\n",
    "        rotRoot.parent = newRoot\n",
    "        rotRoot.BF = rotRoot.BF + 1 - min(newRoot.BF,0)\n",
    "        newRoot.BF = newRoo.BF + 1 + max(rotRoot.BF,0)\n",
    "        \n",
    "    def rebalance(self,node):\n",
    "        if node.BF < 0:\n",
    "            if node.rightChild.BF > 0:\n",
    "                self.rightRotate(node.rightChild)\n",
    "                self.leftRotate(node)\n",
    "            else:\n",
    "                self.leftRotate(node)\n",
    "        else:\n",
    "            if node.leftChild.BF < 0:\n",
    "                self.leftRotate(node.leftChild)\n",
    "                self.rightRotate(node)\n",
    "            else:\n",
    "                self.rightRotate(node)\n",
    "    def upDateBalance(self,node):\n",
    "        "
   ]
  },
  {
   "cell_type": "code",
   "execution_count": null,
   "metadata": {
    "pycharm": {
     "name": "#%%\n"
    }
   },
   "outputs": [],
   "source": [
    "#图-顶点\n",
    "class Vertex:\n",
    "    def __init__(self,key):\n",
    "        self.id = key\n",
    "        self.connectedTo = {}\n",
    "        self.distance = 0\n",
    "        self.color = \"white\"\n",
    "        self.precessor = None\n",
    "        self.discoveryTime = 0\n",
    "        self.finishTime = 0\n",
    "    def addNeighbor(self,nbr,weight):\n",
    "        self.connectedTo[nbr] = weight\n",
    "    def getConnections(self):\n",
    "        return self.connectedTo.keys()\n",
    "    def getId(self):\n",
    "        return self.id\n",
    "    def getWeight(self,nbr):\n",
    "        return self.connectedTo[nbr]\n",
    "    def __str__(self):\n",
    "        ed to\" + str([x.id for x in self.connectedTo])\n",
    "    def setDistance(self,distance):\n",
    "        self.distance = distance\n",
    "    def setPred(self,Vertex):\n",
    "        self.precessor = Vertex\n",
    "    def setColor(self,color):\n",
    "        self.color = color\n",
    "    def getColor(self):\n",
    "        return self.color\n",
    "    def getDistance(self):\n",
    "        return self.distance\n",
    "    def getPred(self):\n",
    "        return self.precessor\n",
    "    def setFinish(self,time):\n",
    "        self.finishTime = time\n",
    "    def setDiscovery(self,time):\n",
    "        self.discoveryTime = time\n",
    "    def getFinish(self):\n",
    "        return self.finishTime\n",
    "    def getDiscovery(self):\n",
    "        return discoveryTime"
   ]
  },
  {
   "cell_type": "code",
   "execution_count": null,
   "metadata": {
    "pycharm": {
     "name": "#%%\n"
    }
   },
   "outputs": [],
   "source": [
    "g1 = Graph()\n",
    "g1.addVertex(0)\n",
    "g1.addVertex(1)\n",
    "g1.addVertex(2)\n",
    "g1.addVertex(3)\n",
    "g1.addEdge(0,1,5)\n",
    "g1.addEdge(0,3,2)\n",
    "g1.addEdge(1,2,4)\n",
    "g1.addEdge(3,2,1)\n",
    "[x for x in g1.getVertices()]"
   ]
  },
  {
   "cell_type": "code",
   "execution_count": null,
   "metadata": {
    "pycharm": {
     "name": "#%%\n"
    }
   },
   "outputs": [],
   "source": [
    "class Graph:#邻接列表\n",
    "    def __init__(self):\n",
    "        self.verList = {}\n",
    "        self.numVertices = 0\n",
    "    def addVertex(self,key):\n",
    "        self.numVertices += 1\n",
    "        newVertex = Vertex(key)\n",
    "        self.verList[key] = newVertex\n",
    "        return newVertex\n",
    "    def getVertex(self,key):\n",
    "        if key in self.verList:\n",
    "            return self.verList[key]\n",
    "        else:\n",
    "            return None\n",
    "    def __contains__(self,n):\n",
    "        return n in self.verList\n",
    "    def addEdge(self,f,t,cost=0):\n",
    "        if f not in self.verList:\n",
    "            self.verList[f] = self.addVertex(f)\n",
    "        if t not in self.verList:\n",
    "            self.verList[t] = self.addVertex(t)\n",
    "        self.verList[f].addNeighbor(self.verList[t],cost)\n",
    "    def getVertices(self):\n",
    "        return self.verList.keys()\n",
    "    def __iter__(self):\n",
    "        return iter(self.verList.values())"
   ]
  },
  {
   "cell_type": "code",
   "execution_count": null,
   "metadata": {
    "pycharm": {
     "name": "#%%\n"
    }
   },
   "outputs": [],
   "source": [
    "for v in g1:\n",
    "    print(v)"
   ]
  },
  {
   "cell_type": "code",
   "execution_count": null,
   "metadata": {
    "pycharm": {
     "name": "#%%\n"
    }
   },
   "outputs": [],
   "source": [
    "#词梯\n",
    "def buildGraph(wordfile):\n",
    "    g = Graph()\n",
    "    d = {}\n",
    "    #wfile = open(\"\",\"r\")\n",
    "    #for line in wfile:\n",
    "    for word in wordfile:\n",
    "        #word = line[:-1]\n",
    "        for i in range(len(word)):\n",
    "            bucket = word[:i] + \"_\" + word[i+1:]\n",
    "            if bucket in d:\n",
    "                d[bucket].append(word)\n",
    "            else:\n",
    "                d[bucket] = [word]\n",
    "    for bucket in d.keys():\n",
    "        for word1 in d[bucket]:\n",
    "            for word2 in d[bucket]:\n",
    "                if word1 != word2:\n",
    "                    g.addEdge(word1,word2)\n",
    "    return g\n",
    "test_list = [\"FOOL\",\"POOL\",\"POLL\",\"POLE\",\"PALE\",\"SALE\",\"SAGE\"]\n",
    "wordGraph = buildGraph(test_list)"
   ]
  },
  {
   "cell_type": "code",
   "execution_count": null,
   "metadata": {
    "pycharm": {
     "name": "#%%\n"
    }
   },
   "outputs": [],
   "source": [
    "def bfs(g,start):\n",
    "    start.setDistance(0)\n",
    "    start.setPred(None)\n",
    "    VertexQueue = Queue()\n",
    "    VertexQueue.enqueue(start)\n",
    "    while (VertexQueue.size() >  0):\n",
    "        currentVertex = VertexQueue.dequeue()\n",
    "        for nbr in currentVertex.getConnections():\n",
    "            if nbr.getColor() == \"white\":\n",
    "                nbr.setDistance(nbr.getDistance() + 1)\n",
    "                nbr.setColor(\"gray\")\n",
    "                nbr.setPred(currentVertex)\n",
    "                VertexQueue.enqueue(nbr)\n",
    "        currentVertex.setColor(\"black\")\n",
    "\n",
    "def traverse(y):\n",
    "    x = y\n",
    "    while (x.getPred()):\n",
    "        print(x.getId())\n",
    "        x = x.getPred()\n",
    "    print(x.getId())\n",
    "    \n",
    "def BFS(g,start):\n",
    "    start.setDistance(0)\n",
    "    start.setPred(None)\n",
    "    VertexQueue = Queue()\n",
    "    VertexQueue.enqueue(start)\n",
    "    while VertexQueue.size() > 0:\n",
    "        CurrentVertex = VertexQueue.dequeue()\n",
    "        for nbr in CurrentVertex.getConnections():\n",
    "            if nbr.getColor() == \"white\":\n",
    "                nbr.setColor(\"gray\")\n",
    "                nbr.setDistance(CurrentVertex.getDistance() + 1)\n",
    "                nbr.setPred(\"CurrentVertex\")\n",
    "                VertexQueue.enqueue(nbr)\n",
    "        CurrentVertex.setColor(\"black\")\n",
    "            "
   ]
  },
  {
   "cell_type": "code",
   "execution_count": null,
   "metadata": {
    "pycharm": {
     "name": "#%%\n"
    }
   },
   "outputs": [],
   "source": [
    "bfs(wordGraph,wordGraph.getVertex(\"FOOL\"))\n",
    "traverse(wordGraph.getVertex(\"SALE\"))"
   ]
  },
  {
   "cell_type": "code",
   "execution_count": null,
   "metadata": {
    "pycharm": {
     "name": "#%%\n"
    }
   },
   "outputs": [],
   "source": [
    "#骑士周游问题\n",
    "def legalMoves(x,y,bdsize):#标准国际象棋size=8\n",
    "    newMoves = []\n",
    "    moveOffsets = [(-2,1),(-2,-1),(-1,2),(-1,-2),(1,2),(1,-2),(2,1),(2,-1)]\n",
    "    for i in moveOffsets:\n",
    "        newX = x + moveOffssts[0]\n",
    "        newY = y + moveOffsets[1]\n",
    "        if legalCoord(newX,bdsize) and legaoCoord(newY,bdsize):\n",
    "            newMoves.append((newX,newY))\n",
    "    return newMoves       \n",
    "def legalCoord(x):\n",
    "    if x >=0 and x < bdsize:\n",
    "        return True\n",
    "    else:\n",
    "        return False\n",
    "def kinghtGraph(bdsize):\n",
    "    ktGraph = Graph()\n",
    "    for row in range(bdsize):\n",
    "        for col in range(bdsize):\n",
    "            nodeId = posToNode(row,col,bdsize)\n",
    "            newpositions = legalMoves(row,col,bdsize)\n",
    "            for coord in newpositions:\n",
    "                nid = posToNode(coord[0],coord[1],bdsize)\n",
    "                ktGraph.addEdge(nodeId,nid)\n",
    "    return ktGraph\n",
    "\n",
    "def posToNode(row,col,bdsize):\n",
    "    return row*bdsize + col\n",
    "                \n",
    "    "
   ]
  },
  {
   "cell_type": "code",
   "execution_count": null,
   "metadata": {
    "pycharm": {
     "name": "#%%\n"
    }
   },
   "outputs": [],
   "source": [
    "#骑士周游 开始周游\n",
    "def knightTour(n,u,path,limit):\n",
    "    u.setColor(\"gray\")\n",
    "    path.apppend(u)\n",
    "    if n < limit:\n",
    "        nbr = list(u.getConnections())\n",
    "        i = 0\n",
    "        done = False\n",
    "        while i < len(nbr) and not done:\n",
    "            if nbr[i].getColor() == \"white\":\n",
    "                done = knightTour(n+1,nbr[i],path,limit)\n",
    "            i += 1\n",
    "        if not done:\n",
    "            path.pop()\n",
    "            u.setColor(\"white\")\n",
    "    else:\n",
    "        done = True\n",
    "    return done"
   ]
  },
  {
   "cell_type": "code",
   "execution_count": null,
   "metadata": {
    "pycharm": {
     "name": "#%%\n"
    }
   },
   "outputs": [],
   "source": [
    "def knightTour(u,n,path,limit): #算法改进\n",
    "    u.setColor(\"gray\")\n",
    "    path.append(u)\n",
    "    if n < limit:\n",
    "        nbr = list(u.getConnections())\n",
    "        i = 0\n",
    "        done = False\n",
    "        while not done and i < len(nbr):\n",
    "            if nbr[i].getColor == \"white\":\n",
    "                done = knightTour(nbr[i],n+1,path,limit)\n",
    "            i += 1\n",
    "        if not done:\n",
    "            path.pop()\n",
    "            u.setColor(\"white\")\n",
    "    else:\n",
    "        done = True \n",
    "    return done \n",
    "\n",
    "def orderByAvail(u):\n",
    "    reslist = []\n",
    "    for v in list(u.getConnections()):\n",
    "        if v.getColor() == \"white\":\n",
    "            c = 0\n",
    "            for w in list(v.getConnections()):\n",
    "                if w.getColor == \"white\":\n",
    "                    c += 1\n",
    "            reslist.append((c,v))\n",
    "    reslist.sort(key=lambda x:x[0])\n",
    "    return [y[1] for y in reslist]"
   ]
  },
  {
   "cell_type": "code",
   "execution_count": null,
   "metadata": {
    "pycharm": {
     "name": "#%%\n"
    }
   },
   "outputs": [],
   "source": [
    "#通用深度优先搜索\n",
    "from pythonds.graphs import Graph\n",
    "class DFSGraph(Graph):\n",
    "    def __init__(self):\n",
    "        super().__init__()\n",
    "        self.time = 0\n",
    "    def DFS(self):\n",
    "        for avertex in self:\n",
    "            avertex.setColor(\"white\")\n",
    "            avertex.setPred(-1)\n",
    "        for avertex in self:\n",
    "            if avertex.getColor(\"white\"):\n",
    "                self.dfsVisit(avertex)\n",
    "                \n",
    "    def dfsVisit(self,startVertex):\n",
    "        startVertex.setColor(\"gray\")\n",
    "        self.time += 1\n",
    "        startVertex.setDiscovery(self.time)\n",
    "        for nextVertex in startVertex.getConnections():\n",
    "            if nextVertex.getColor() == \"white\":\n",
    "                nextVertex.setPred(startVertex)\n",
    "                self.dfsVisit(nextVertex)\n",
    "        startVertex.setColor(\"black\")\n",
    "        self.time += 1\n",
    "        self.setFinish(self.time)"
   ]
  },
  {
   "cell_type": "code",
   "execution_count": null,
   "metadata": {
    "pycharm": {
     "name": "#%%\n"
    }
   },
   "outputs": [],
   "source": [
    "pip install pythonds"
   ]
  },
  {
   "cell_type": "code",
   "execution_count": null,
   "metadata": {
    "pycharm": {
     "name": "#%%\n"
    }
   },
   "outputs": [],
   "source": [
    "#最短路径\n",
    "class PriorityQueue:\n",
    "    def __init__(self):\n",
    "        self.currentsize = 0\n",
    "        self.heapDict = {0:0}\n",
    "        self.heapList = list(self.heapDict.keys())\n",
    "    def Insert(self,key):\n",
    "        self.heapList.append(key)\n",
    "        self.currentsize += 1\n",
    "        self.percUp(self.currentsize)\n",
    "    def percUp(self,i):\n",
    "        while (i // 2 ) > 0:\n",
    "            if self.heapList[i] < self.heapList[i // 2]:\n",
    "                temp = self.heapList[i]\n",
    "                self.heapList[i] = self.heapList[i // 2]\n",
    "                self.heapList[i // 2]  = temp\n",
    "            i = i // 2\n",
    "    def delMin(self):\n",
    "        retreval = self.heapList[1]\n",
    "        self.heapList[1] = self.heapList[currentsize]\n",
    "        self.heapList.pop()\n",
    "        self.percDown(1)\n",
    "        return retreval\n",
    "    def percDown(self,i):\n",
    "        while(i*2) <= self.currentsize:\n",
    "            mc = self.getMinchild(i)\n",
    "            if self.heapList[i] > self.heapList[mc]:\n",
    "                self.heapList[i],self.heapList[mc] = self.heapList[mc],self.heapList[i]\n",
    "            i = mc\n",
    "    def getMinchild(self,i):\n",
    "        if (i*2+1) > self.currentsize:\n",
    "            return i*2\n",
    "        else:\n",
    "            if self.heapList[i*2] > self.heapList[i*2+1]:\n",
    "                return i*2+1\n",
    "            else:\n",
    "                return i*2\n",
    "    def BuildHeap(self,alist):\n",
    "        for cell in alist:\n",
    "            self.heapDict[cell[1]] = cell[0]\n",
    "        i = len(alist) // 2\n",
    "        self.heapList = list(self.heapDict.values())\n",
    "        self.currentsize = len(alist)\n",
    "        while (i > 0):\n",
    "            self.percDown(i)\n",
    "            i -= 1\n",
    "        return self.heapList"
   ]
  },
  {
   "cell_type": "code",
   "execution_count": null,
   "metadata": {
    "pycharm": {
     "name": "#%%\n"
    }
   },
   "outputs": [],
   "source": [
    "import sys\n",
    "sys.maxsize\n",
    "def Dijkstra(G,start):\n",
    "    pq = PriorityQueue()\n",
    "    for v in G:\n",
    "        v.setDistance(sys.maxsize)\n",
    "        v.setPred(None)\n",
    "    start.setDistance(0)\n",
    "    pq.buildHeap([(v.getDistance(),v) for v in G])\n",
    "    while (not pq.isEmpyt()):\n",
    "        currentVertex = pq.delMin()\n",
    "        for nextVertex in currentVertex.getConnections():\n",
    "            newDistance = currentVertex.distance + currentVertex.getWeight(nextVertex)\n",
    "            if newDistance < nextVertex.getDistance():\n",
    "                nextVertex.setDistance(newDistance)\n",
    "                nextVertex.setPred(currentVertex)\n",
    "                pd.decreaseKey(newDistance,nextVertex)"
   ]
  },
  {
   "cell_type": "code",
   "execution_count": null,
   "metadata": {
    "pycharm": {
     "name": "#%%\n"
    }
   },
   "outputs": [],
   "source": [
    "class Test:\n",
    "    def __init__(self):\n",
    "        self.Dict = {0:0}\n",
    "        self.List = list(self.Dict.keys())\n",
    "    def setValue(self,vertex,distance):\n",
    "        self.Dict[vertex] = distance\n",
    "        self.List = list(self.Dict.values())\n",
    "    def getList(self):\n",
    "        return self.List\n",
    "\n",
    "t = Test()"
   ]
  },
  {
   "cell_type": "code",
   "execution_count": null,
   "metadata": {
    "pycharm": {
     "name": "#%%\n"
    }
   },
   "outputs": [],
   "source": [
    "t.setValue(2,3)\n",
    "t.getList()\n",
    "t.setValue(2,2)\n",
    "t.getList()\n",
    "t.setValue(2,1)\n",
    "t.getList()"
   ]
  },
  {
   "cell_type": "code",
   "execution_count": null,
   "metadata": {
    "pycharm": {
     "name": "#%%\n"
    }
   },
   "outputs": [],
   "source": [
    "from pythonds.graphs import PriorityQueue\n",
    "pq = PriorityQueue()\n",
    "help(pq)"
   ]
  },
  {
   "cell_type": "code",
   "execution_count": null,
   "metadata": {
    "pycharm": {
     "name": "#%%\n"
    }
   },
   "outputs": [],
   "source": [
    "#最小生成树\n",
    "import sys\n",
    "sys.maxsize\n",
    "def prim(G,start):\n",
    "    pq = PriorityQueue()\n",
    "    for v in G:\n",
    "        v.setDistance(sys.maxsize)\n",
    "        v.setPred(None)\n",
    "    start.setDistance(0)\n",
    "    pq.buildHeap([(v.getDistance(),v) for v in G])\n",
    "    while (not pq.isEmpyt()):\n",
    "        currentVertex = pq.delMin()\n",
    "        for nextVertex in currentVertex.getConnections():\n",
    "            newCost = currentVertex.getWeight(nextVertex)\n",
    "            if nextVertex in pq and newCost < nextVertex.getDistance():#树外的shi仍然在pq中的\n",
    "                nextVertex.setDistance(newCost)\n",
    "                nextVertex.setPred(currentVertex)\n",
    "                pd.decreaseKey(newCost,nextVertex)"
   ]
  },
  {
   "cell_type": "code",
   "execution_count": null,
   "metadata": {
    "pycharm": {
     "name": "#%%\n"
    }
   },
   "outputs": [],
   "source": [
    "print(\"are u still there?\")"
   ]
  },
  {
   "cell_type": "code",
   "execution_count": 1,
   "metadata": {
    "pycharm": {
     "name": "#%%\n"
    }
   },
   "outputs": [
    {
     "name": "stdout",
     "output_type": "stream",
     "text": [
      "are u still there?\n"
     ]
    }
   ],
   "source": [
    "print(\"are u still there?\")"
   ]
  },
  {
   "cell_type": "code",
   "execution_count": null,
   "metadata": {},
   "outputs": [],
   "source": [
    "import pandas as pd\n",
    "df1 = pd.read_csv(\"delta_price_symbols_A_to_D\")\n",
    "df2 = pd.read_csv(\"delta_price_symbols_E_to_H\")\n",
    "df3 = pd.read_csv(\"delta_price_symbol_X\")"
   ]
  }
 ],
 "metadata": {
  "kernelspec": {
   "display_name": "Python 3",
   "language": "python",
   "name": "python3"
  },
  "language_info": {
   "codemirror_mode": {
    "name": "ipython",
    "version": 3
   },
   "file_extension": ".py",
   "mimetype": "text/x-python",
   "name": "python",
   "nbconvert_exporter": "python",
   "pygments_lexer": "ipython3",
   "version": "3.7.3"
  },
  "pycharm": {
   "stem_cell": {
    "cell_type": "raw",
    "metadata": {
     "collapsed": false
    },
    "source": []
   }
  }
 },
 "nbformat": 4,
 "nbformat_minor": 2
}
